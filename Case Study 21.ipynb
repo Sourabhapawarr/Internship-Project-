{
 "cells": [
  {
   "cell_type": "markdown",
   "id": "476749bf",
   "metadata": {},
   "source": [
    "### Import Required Libreries "
   ]
  },
  {
   "cell_type": "code",
   "execution_count": 1,
   "id": "0861b8b1",
   "metadata": {},
   "outputs": [],
   "source": [
    "import pandas as pd\n",
    "import numpy as np\n",
    "import matplotlib.pyplot as plt\n",
    "import os"
   ]
  },
  {
   "cell_type": "markdown",
   "id": "856ab504",
   "metadata": {},
   "source": [
    "### Load the Data Set"
   ]
  },
  {
   "cell_type": "code",
   "execution_count": 2,
   "id": "46d6bfde",
   "metadata": {},
   "outputs": [],
   "source": [
    "os.chdir('C:\\\\Users\\\\HP\\\\OneDrive')"
   ]
  },
  {
   "cell_type": "code",
   "execution_count": 3,
   "id": "6f5f4ae7",
   "metadata": {},
   "outputs": [
    {
     "data": {
      "text/html": [
       "<div>\n",
       "<style scoped>\n",
       "    .dataframe tbody tr th:only-of-type {\n",
       "        vertical-align: middle;\n",
       "    }\n",
       "\n",
       "    .dataframe tbody tr th {\n",
       "        vertical-align: top;\n",
       "    }\n",
       "\n",
       "    .dataframe thead th {\n",
       "        text-align: right;\n",
       "    }\n",
       "</style>\n",
       "<table border=\"1\" class=\"dataframe\">\n",
       "  <thead>\n",
       "    <tr style=\"text-align: right;\">\n",
       "      <th></th>\n",
       "      <th>Movie</th>\n",
       "      <th>LeadStudio</th>\n",
       "      <th>RottenTomatoes</th>\n",
       "      <th>AudienceScore</th>\n",
       "      <th>Story</th>\n",
       "      <th>Genre</th>\n",
       "      <th>TheatersOpenWeek</th>\n",
       "      <th>OpeningWeekend</th>\n",
       "      <th>BOAvgOpenWeekend</th>\n",
       "      <th>DomesticGross</th>\n",
       "      <th>ForeignGross</th>\n",
       "      <th>WorldGross</th>\n",
       "      <th>Budget</th>\n",
       "      <th>Profitability</th>\n",
       "      <th>OpenProfit</th>\n",
       "      <th>Year</th>\n",
       "    </tr>\n",
       "  </thead>\n",
       "  <tbody>\n",
       "    <tr>\n",
       "      <th>0</th>\n",
       "      <td>Spider-Man 3</td>\n",
       "      <td>Sony</td>\n",
       "      <td>61.0</td>\n",
       "      <td>54.0</td>\n",
       "      <td>Metamorphosis</td>\n",
       "      <td>Action</td>\n",
       "      <td>4252.0</td>\n",
       "      <td>151.10</td>\n",
       "      <td>35540.0</td>\n",
       "      <td>336.53</td>\n",
       "      <td>554.34</td>\n",
       "      <td>890.87</td>\n",
       "      <td>258.0</td>\n",
       "      <td>345.30</td>\n",
       "      <td>58.57</td>\n",
       "      <td>2007</td>\n",
       "    </tr>\n",
       "    <tr>\n",
       "      <th>1</th>\n",
       "      <td>Shrek the Third</td>\n",
       "      <td>Paramount</td>\n",
       "      <td>42.0</td>\n",
       "      <td>57.0</td>\n",
       "      <td>Quest</td>\n",
       "      <td>Animation</td>\n",
       "      <td>4122.0</td>\n",
       "      <td>121.60</td>\n",
       "      <td>29507.0</td>\n",
       "      <td>322.72</td>\n",
       "      <td>476.24</td>\n",
       "      <td>798.96</td>\n",
       "      <td>160.0</td>\n",
       "      <td>499.35</td>\n",
       "      <td>76.00</td>\n",
       "      <td>2007</td>\n",
       "    </tr>\n",
       "    <tr>\n",
       "      <th>2</th>\n",
       "      <td>Transformers</td>\n",
       "      <td>Paramount</td>\n",
       "      <td>57.0</td>\n",
       "      <td>89.0</td>\n",
       "      <td>Monster Force</td>\n",
       "      <td>Action</td>\n",
       "      <td>4011.0</td>\n",
       "      <td>70.50</td>\n",
       "      <td>17577.0</td>\n",
       "      <td>319.25</td>\n",
       "      <td>390.46</td>\n",
       "      <td>709.71</td>\n",
       "      <td>150.0</td>\n",
       "      <td>473.14</td>\n",
       "      <td>47.00</td>\n",
       "      <td>2007</td>\n",
       "    </tr>\n",
       "    <tr>\n",
       "      <th>3</th>\n",
       "      <td>Pirates of the Caribbean: At World's End</td>\n",
       "      <td>Disney</td>\n",
       "      <td>45.0</td>\n",
       "      <td>74.0</td>\n",
       "      <td>Rescue</td>\n",
       "      <td>Action</td>\n",
       "      <td>4362.0</td>\n",
       "      <td>114.70</td>\n",
       "      <td>26302.0</td>\n",
       "      <td>309.42</td>\n",
       "      <td>654.00</td>\n",
       "      <td>963.42</td>\n",
       "      <td>300.0</td>\n",
       "      <td>321.14</td>\n",
       "      <td>38.23</td>\n",
       "      <td>2007</td>\n",
       "    </tr>\n",
       "    <tr>\n",
       "      <th>4</th>\n",
       "      <td>Harry Potter and the Order of the Phoenix</td>\n",
       "      <td>Warner Bros</td>\n",
       "      <td>78.0</td>\n",
       "      <td>82.0</td>\n",
       "      <td>Quest</td>\n",
       "      <td>Adventure</td>\n",
       "      <td>4285.0</td>\n",
       "      <td>77.10</td>\n",
       "      <td>17998.0</td>\n",
       "      <td>292.00</td>\n",
       "      <td>647.88</td>\n",
       "      <td>939.89</td>\n",
       "      <td>150.0</td>\n",
       "      <td>626.59</td>\n",
       "      <td>51.40</td>\n",
       "      <td>2007</td>\n",
       "    </tr>\n",
       "    <tr>\n",
       "      <th>...</th>\n",
       "      <td>...</td>\n",
       "      <td>...</td>\n",
       "      <td>...</td>\n",
       "      <td>...</td>\n",
       "      <td>...</td>\n",
       "      <td>...</td>\n",
       "      <td>...</td>\n",
       "      <td>...</td>\n",
       "      <td>...</td>\n",
       "      <td>...</td>\n",
       "      <td>...</td>\n",
       "      <td>...</td>\n",
       "      <td>...</td>\n",
       "      <td>...</td>\n",
       "      <td>...</td>\n",
       "      <td>...</td>\n",
       "    </tr>\n",
       "    <tr>\n",
       "      <th>965</th>\n",
       "      <td>The Canyons</td>\n",
       "      <td>IFC</td>\n",
       "      <td>22.0</td>\n",
       "      <td>NaN</td>\n",
       "      <td>NaN</td>\n",
       "      <td>NaN</td>\n",
       "      <td>1.0</td>\n",
       "      <td>0.01</td>\n",
       "      <td>13351.0</td>\n",
       "      <td>0.06</td>\n",
       "      <td>0.14</td>\n",
       "      <td>0.19</td>\n",
       "      <td>NaN</td>\n",
       "      <td>77.21</td>\n",
       "      <td>NaN</td>\n",
       "      <td>2013</td>\n",
       "    </tr>\n",
       "    <tr>\n",
       "      <th>966</th>\n",
       "      <td>The Call</td>\n",
       "      <td>TriStar</td>\n",
       "      <td>43.0</td>\n",
       "      <td>66.0</td>\n",
       "      <td>NaN</td>\n",
       "      <td>NaN</td>\n",
       "      <td>2507.0</td>\n",
       "      <td>17.12</td>\n",
       "      <td>6828.0</td>\n",
       "      <td>51.87</td>\n",
       "      <td>16.70</td>\n",
       "      <td>68.57</td>\n",
       "      <td>13.0</td>\n",
       "      <td>527.48</td>\n",
       "      <td>131.69</td>\n",
       "      <td>2013</td>\n",
       "    </tr>\n",
       "    <tr>\n",
       "      <th>967</th>\n",
       "      <td>The English Teacher</td>\n",
       "      <td>Cinedigm Entertainment</td>\n",
       "      <td>42.0</td>\n",
       "      <td>NaN</td>\n",
       "      <td>NaN</td>\n",
       "      <td>NaN</td>\n",
       "      <td>2.0</td>\n",
       "      <td>0.01</td>\n",
       "      <td>3001.0</td>\n",
       "      <td>0.10</td>\n",
       "      <td>0.06</td>\n",
       "      <td>0.10</td>\n",
       "      <td>NaN</td>\n",
       "      <td>NaN</td>\n",
       "      <td>NaN</td>\n",
       "      <td>2013</td>\n",
       "    </tr>\n",
       "    <tr>\n",
       "      <th>968</th>\n",
       "      <td>John Dies at the End</td>\n",
       "      <td>Magnolia</td>\n",
       "      <td>61.0</td>\n",
       "      <td>53.0</td>\n",
       "      <td>NaN</td>\n",
       "      <td>NaN</td>\n",
       "      <td>1.0</td>\n",
       "      <td>0.01</td>\n",
       "      <td>12467.0</td>\n",
       "      <td>0.14</td>\n",
       "      <td>NaN</td>\n",
       "      <td>0.14</td>\n",
       "      <td>1.0</td>\n",
       "      <td>14.20</td>\n",
       "      <td>1.00</td>\n",
       "      <td>2013</td>\n",
       "    </tr>\n",
       "    <tr>\n",
       "      <th>969</th>\n",
       "      <td>Lovelace</td>\n",
       "      <td>Radius-TWC</td>\n",
       "      <td>55.0</td>\n",
       "      <td>37.0</td>\n",
       "      <td>NaN</td>\n",
       "      <td>Biography</td>\n",
       "      <td>118.0</td>\n",
       "      <td>0.18</td>\n",
       "      <td>1564.0</td>\n",
       "      <td>0.36</td>\n",
       "      <td>1.17</td>\n",
       "      <td>1.52</td>\n",
       "      <td>10.0</td>\n",
       "      <td>15.25</td>\n",
       "      <td>1.80</td>\n",
       "      <td>2013</td>\n",
       "    </tr>\n",
       "  </tbody>\n",
       "</table>\n",
       "<p>970 rows × 16 columns</p>\n",
       "</div>"
      ],
      "text/plain": [
       "                                         Movie              LeadStudio  \\\n",
       "0                                 Spider-Man 3                    Sony   \n",
       "1                              Shrek the Third               Paramount   \n",
       "2                                 Transformers               Paramount   \n",
       "3     Pirates of the Caribbean: At World's End                  Disney   \n",
       "4    Harry Potter and the Order of the Phoenix             Warner Bros   \n",
       "..                                         ...                     ...   \n",
       "965                                The Canyons                     IFC   \n",
       "966                                   The Call                 TriStar   \n",
       "967                        The English Teacher  Cinedigm Entertainment   \n",
       "968                       John Dies at the End                Magnolia   \n",
       "969                                   Lovelace              Radius-TWC   \n",
       "\n",
       "     RottenTomatoes  AudienceScore          Story      Genre  \\\n",
       "0              61.0           54.0  Metamorphosis     Action   \n",
       "1              42.0           57.0          Quest  Animation   \n",
       "2              57.0           89.0  Monster Force     Action   \n",
       "3              45.0           74.0         Rescue     Action   \n",
       "4              78.0           82.0          Quest  Adventure   \n",
       "..              ...            ...            ...        ...   \n",
       "965            22.0            NaN            NaN        NaN   \n",
       "966            43.0           66.0            NaN        NaN   \n",
       "967            42.0            NaN            NaN        NaN   \n",
       "968            61.0           53.0            NaN        NaN   \n",
       "969            55.0           37.0            NaN  Biography   \n",
       "\n",
       "     TheatersOpenWeek  OpeningWeekend  BOAvgOpenWeekend  DomesticGross  \\\n",
       "0              4252.0          151.10           35540.0         336.53   \n",
       "1              4122.0          121.60           29507.0         322.72   \n",
       "2              4011.0           70.50           17577.0         319.25   \n",
       "3              4362.0          114.70           26302.0         309.42   \n",
       "4              4285.0           77.10           17998.0         292.00   \n",
       "..                ...             ...               ...            ...   \n",
       "965               1.0            0.01           13351.0           0.06   \n",
       "966            2507.0           17.12            6828.0          51.87   \n",
       "967               2.0            0.01            3001.0           0.10   \n",
       "968               1.0            0.01           12467.0           0.14   \n",
       "969             118.0            0.18            1564.0           0.36   \n",
       "\n",
       "     ForeignGross  WorldGross  Budget  Profitability  OpenProfit  Year  \n",
       "0          554.34      890.87   258.0         345.30       58.57  2007  \n",
       "1          476.24      798.96   160.0         499.35       76.00  2007  \n",
       "2          390.46      709.71   150.0         473.14       47.00  2007  \n",
       "3          654.00      963.42   300.0         321.14       38.23  2007  \n",
       "4          647.88      939.89   150.0         626.59       51.40  2007  \n",
       "..            ...         ...     ...            ...         ...   ...  \n",
       "965          0.14        0.19     NaN          77.21         NaN  2013  \n",
       "966         16.70       68.57    13.0         527.48      131.69  2013  \n",
       "967          0.06        0.10     NaN            NaN         NaN  2013  \n",
       "968           NaN        0.14     1.0          14.20        1.00  2013  \n",
       "969          1.17        1.52    10.0          15.25        1.80  2013  \n",
       "\n",
       "[970 rows x 16 columns]"
      ]
     },
     "execution_count": 3,
     "metadata": {},
     "output_type": "execute_result"
    }
   ],
   "source": [
    "movie = pd.read_csv('HollywoodMovies.csv')\n",
    "movie"
   ]
  },
  {
   "cell_type": "markdown",
   "id": "aa71d958",
   "metadata": {},
   "source": [
    "### Describe the Data Set \n",
    "After descibe data we get Mean Value, Minimum Value, Maximum Value, Standerdeviation "
   ]
  },
  {
   "cell_type": "code",
   "execution_count": 5,
   "id": "b76dbf6b",
   "metadata": {},
   "outputs": [
    {
     "data": {
      "text/html": [
       "<div>\n",
       "<style scoped>\n",
       "    .dataframe tbody tr th:only-of-type {\n",
       "        vertical-align: middle;\n",
       "    }\n",
       "\n",
       "    .dataframe tbody tr th {\n",
       "        vertical-align: top;\n",
       "    }\n",
       "\n",
       "    .dataframe thead th {\n",
       "        text-align: right;\n",
       "    }\n",
       "</style>\n",
       "<table border=\"1\" class=\"dataframe\">\n",
       "  <thead>\n",
       "    <tr style=\"text-align: right;\">\n",
       "      <th></th>\n",
       "      <th>RottenTomatoes</th>\n",
       "      <th>AudienceScore</th>\n",
       "      <th>TheatersOpenWeek</th>\n",
       "      <th>OpeningWeekend</th>\n",
       "      <th>BOAvgOpenWeekend</th>\n",
       "      <th>DomesticGross</th>\n",
       "      <th>ForeignGross</th>\n",
       "      <th>WorldGross</th>\n",
       "      <th>Budget</th>\n",
       "      <th>Profitability</th>\n",
       "      <th>OpenProfit</th>\n",
       "      <th>Year</th>\n",
       "    </tr>\n",
       "  </thead>\n",
       "  <tbody>\n",
       "    <tr>\n",
       "      <th>count</th>\n",
       "      <td>913.000000</td>\n",
       "      <td>907.000000</td>\n",
       "      <td>949.000000</td>\n",
       "      <td>969.000000</td>\n",
       "      <td>945.000000</td>\n",
       "      <td>970.000000</td>\n",
       "      <td>876.000000</td>\n",
       "      <td>914.000000</td>\n",
       "      <td>897.000000</td>\n",
       "      <td>896.000000</td>\n",
       "      <td>895.000000</td>\n",
       "      <td>970.000000</td>\n",
       "    </tr>\n",
       "    <tr>\n",
       "      <th>mean</th>\n",
       "      <td>51.707558</td>\n",
       "      <td>61.271224</td>\n",
       "      <td>2495.246575</td>\n",
       "      <td>20.620826</td>\n",
       "      <td>8562.593651</td>\n",
       "      <td>68.162544</td>\n",
       "      <td>101.237419</td>\n",
       "      <td>169.009945</td>\n",
       "      <td>56.117168</td>\n",
       "      <td>384.620100</td>\n",
       "      <td>62.223575</td>\n",
       "      <td>2010.236082</td>\n",
       "    </tr>\n",
       "    <tr>\n",
       "      <th>std</th>\n",
       "      <td>26.821268</td>\n",
       "      <td>16.602457</td>\n",
       "      <td>1164.223356</td>\n",
       "      <td>25.338689</td>\n",
       "      <td>10645.135565</td>\n",
       "      <td>80.409969</td>\n",
       "      <td>155.987696</td>\n",
       "      <td>227.744380</td>\n",
       "      <td>53.755914</td>\n",
       "      <td>631.666012</td>\n",
       "      <td>159.713218</td>\n",
       "      <td>1.954840</td>\n",
       "    </tr>\n",
       "    <tr>\n",
       "      <th>min</th>\n",
       "      <td>0.000000</td>\n",
       "      <td>19.000000</td>\n",
       "      <td>1.000000</td>\n",
       "      <td>0.010000</td>\n",
       "      <td>28.000000</td>\n",
       "      <td>0.060000</td>\n",
       "      <td>0.000000</td>\n",
       "      <td>0.100000</td>\n",
       "      <td>0.000000</td>\n",
       "      <td>2.300000</td>\n",
       "      <td>0.160000</td>\n",
       "      <td>2007.000000</td>\n",
       "    </tr>\n",
       "    <tr>\n",
       "      <th>25%</th>\n",
       "      <td>28.000000</td>\n",
       "      <td>49.000000</td>\n",
       "      <td>2054.000000</td>\n",
       "      <td>5.300000</td>\n",
       "      <td>3528.000000</td>\n",
       "      <td>17.565000</td>\n",
       "      <td>16.667500</td>\n",
       "      <td>38.357500</td>\n",
       "      <td>20.000000</td>\n",
       "      <td>150.020000</td>\n",
       "      <td>19.505000</td>\n",
       "      <td>2009.000000</td>\n",
       "    </tr>\n",
       "    <tr>\n",
       "      <th>50%</th>\n",
       "      <td>52.000000</td>\n",
       "      <td>61.000000</td>\n",
       "      <td>2798.000000</td>\n",
       "      <td>13.150000</td>\n",
       "      <td>5983.000000</td>\n",
       "      <td>40.415000</td>\n",
       "      <td>46.655000</td>\n",
       "      <td>88.180000</td>\n",
       "      <td>35.000000</td>\n",
       "      <td>254.820000</td>\n",
       "      <td>34.610000</td>\n",
       "      <td>2010.000000</td>\n",
       "    </tr>\n",
       "    <tr>\n",
       "      <th>75%</th>\n",
       "      <td>75.000000</td>\n",
       "      <td>74.000000</td>\n",
       "      <td>3285.000000</td>\n",
       "      <td>26.200000</td>\n",
       "      <td>9790.000000</td>\n",
       "      <td>89.252500</td>\n",
       "      <td>111.908750</td>\n",
       "      <td>202.310000</td>\n",
       "      <td>75.000000</td>\n",
       "      <td>417.987500</td>\n",
       "      <td>58.375000</td>\n",
       "      <td>2012.000000</td>\n",
       "    </tr>\n",
       "    <tr>\n",
       "      <th>max</th>\n",
       "      <td>99.000000</td>\n",
       "      <td>96.000000</td>\n",
       "      <td>4468.000000</td>\n",
       "      <td>207.440000</td>\n",
       "      <td>147262.000000</td>\n",
       "      <td>760.500000</td>\n",
       "      <td>2021.000000</td>\n",
       "      <td>2781.500000</td>\n",
       "      <td>300.000000</td>\n",
       "      <td>10175.850000</td>\n",
       "      <td>3373.000000</td>\n",
       "      <td>2013.000000</td>\n",
       "    </tr>\n",
       "  </tbody>\n",
       "</table>\n",
       "</div>"
      ],
      "text/plain": [
       "       RottenTomatoes  AudienceScore  TheatersOpenWeek  OpeningWeekend  \\\n",
       "count      913.000000     907.000000        949.000000      969.000000   \n",
       "mean        51.707558      61.271224       2495.246575       20.620826   \n",
       "std         26.821268      16.602457       1164.223356       25.338689   \n",
       "min          0.000000      19.000000          1.000000        0.010000   \n",
       "25%         28.000000      49.000000       2054.000000        5.300000   \n",
       "50%         52.000000      61.000000       2798.000000       13.150000   \n",
       "75%         75.000000      74.000000       3285.000000       26.200000   \n",
       "max         99.000000      96.000000       4468.000000      207.440000   \n",
       "\n",
       "       BOAvgOpenWeekend  DomesticGross  ForeignGross   WorldGross      Budget  \\\n",
       "count        945.000000     970.000000    876.000000   914.000000  897.000000   \n",
       "mean        8562.593651      68.162544    101.237419   169.009945   56.117168   \n",
       "std        10645.135565      80.409969    155.987696   227.744380   53.755914   \n",
       "min           28.000000       0.060000      0.000000     0.100000    0.000000   \n",
       "25%         3528.000000      17.565000     16.667500    38.357500   20.000000   \n",
       "50%         5983.000000      40.415000     46.655000    88.180000   35.000000   \n",
       "75%         9790.000000      89.252500    111.908750   202.310000   75.000000   \n",
       "max       147262.000000     760.500000   2021.000000  2781.500000  300.000000   \n",
       "\n",
       "       Profitability   OpenProfit         Year  \n",
       "count     896.000000   895.000000   970.000000  \n",
       "mean      384.620100    62.223575  2010.236082  \n",
       "std       631.666012   159.713218     1.954840  \n",
       "min         2.300000     0.160000  2007.000000  \n",
       "25%       150.020000    19.505000  2009.000000  \n",
       "50%       254.820000    34.610000  2010.000000  \n",
       "75%       417.987500    58.375000  2012.000000  \n",
       "max     10175.850000  3373.000000  2013.000000  "
      ]
     },
     "execution_count": 5,
     "metadata": {},
     "output_type": "execute_result"
    }
   ],
   "source": [
    "movie.describe()"
   ]
  },
  {
   "cell_type": "markdown",
   "id": "517c5158",
   "metadata": {},
   "source": [
    "findin the unique value from LeadStudio column"
   ]
  },
  {
   "cell_type": "code",
   "execution_count": 6,
   "id": "db0d63d6",
   "metadata": {},
   "outputs": [
    {
     "data": {
      "text/plain": [
       "LeadStudio\n",
       "A24                           3\n",
       "ARC Entertainment             2\n",
       "Aardman Animations            1\n",
       "Atlas Distribution            1\n",
       "Buena Vista                  20\n",
       "CBS                          12\n",
       "Cinedigm Entertainment        1\n",
       "Cohen Media                   1\n",
       "Columbia                      3\n",
       "Crest                         1\n",
       "Disney                       39\n",
       "DreamWorks                    8\n",
       "Entertainment One             1\n",
       "Eros                          4\n",
       "FilmDistrict                  7\n",
       "Focus                        17\n",
       "Fox                          91\n",
       "Fox Searchlight              13\n",
       "Happy Madison                 3\n",
       "Highlight Communications      1\n",
       "IFC                           6\n",
       "Independent                 133\n",
       "LD Entertainment              2\n",
       "Legendary Pictures            2\n",
       "Liberty Starz                 2\n",
       "Lionsgate                    40\n",
       "MGM                           5\n",
       "Magnolia                      6\n",
       "Mediaplex                     1\n",
       "Millenium Entertainment       1\n",
       "Miramax                       4\n",
       "Morgan Creek                  1\n",
       "Music Box Films               1\n",
       "New Line                      3\n",
       "Open Road                     8\n",
       "Oscillloscope                 1\n",
       "Overture                      1\n",
       "Paramount                    81\n",
       "Pixar                         1\n",
       "Radius-TWC                    1\n",
       "Regency Enterprises           1\n",
       "Relativity Media             30\n",
       "Reliance                      2\n",
       "Roadside Attractions          8\n",
       "Rocky Mountain                1\n",
       "Samuel Goldwyn                3\n",
       "Screen Gems                   3\n",
       "Sony                         98\n",
       "Spyglass Entertainment        3\n",
       "Summit                       33\n",
       "TriStar                       6\n",
       "UTV                           1\n",
       "Universal                    85\n",
       "Vertigo                       1\n",
       "Village Roadshow              1\n",
       "Virgin                        1\n",
       "Warner Bros                 114\n",
       "Weinstein                    39\n",
       "Yash Raj                      2\n",
       "dtype: int64"
      ]
     },
     "execution_count": 6,
     "metadata": {},
     "output_type": "execute_result"
    }
   ],
   "source": [
    "movie.groupby('LeadStudio').size()"
   ]
  },
  {
   "cell_type": "markdown",
   "id": "dc2724e9",
   "metadata": {},
   "source": [
    "Finding the Unique Value from Genre Column and then count"
   ]
  },
  {
   "cell_type": "code",
   "execution_count": 7,
   "id": "fee1d613",
   "metadata": {},
   "outputs": [
    {
     "data": {
      "text/plain": [
       "Genre\n",
       "Action         166\n",
       "Adventure       30\n",
       "Animation       51\n",
       "Biography       14\n",
       "Comedy         177\n",
       "Crime           15\n",
       "Documentary      7\n",
       "Drama          109\n",
       "Fantasy          6\n",
       "Horror          52\n",
       "Musical          4\n",
       "Mystery          5\n",
       "Romance         20\n",
       "Thriller        35\n",
       "dtype: int64"
      ]
     },
     "execution_count": 7,
     "metadata": {},
     "output_type": "execute_result"
    }
   ],
   "source": [
    "movie.groupby('Genre').size()"
   ]
  },
  {
   "cell_type": "code",
   "execution_count": 8,
   "id": "f7991aa5",
   "metadata": {},
   "outputs": [
    {
     "data": {
      "text/html": [
       "<div>\n",
       "<style scoped>\n",
       "    .dataframe tbody tr th:only-of-type {\n",
       "        vertical-align: middle;\n",
       "    }\n",
       "\n",
       "    .dataframe tbody tr th {\n",
       "        vertical-align: top;\n",
       "    }\n",
       "\n",
       "    .dataframe thead th {\n",
       "        text-align: right;\n",
       "    }\n",
       "</style>\n",
       "<table border=\"1\" class=\"dataframe\">\n",
       "  <thead>\n",
       "    <tr style=\"text-align: right;\">\n",
       "      <th></th>\n",
       "      <th>Movie</th>\n",
       "      <th>LeadStudio</th>\n",
       "      <th>RottenTomatoes</th>\n",
       "      <th>AudienceScore</th>\n",
       "      <th>Story</th>\n",
       "      <th>TheatersOpenWeek</th>\n",
       "      <th>OpeningWeekend</th>\n",
       "      <th>BOAvgOpenWeekend</th>\n",
       "      <th>DomesticGross</th>\n",
       "      <th>ForeignGross</th>\n",
       "      <th>WorldGross</th>\n",
       "      <th>Budget</th>\n",
       "      <th>Profitability</th>\n",
       "      <th>OpenProfit</th>\n",
       "      <th>Year</th>\n",
       "    </tr>\n",
       "    <tr>\n",
       "      <th>Genre</th>\n",
       "      <th></th>\n",
       "      <th></th>\n",
       "      <th></th>\n",
       "      <th></th>\n",
       "      <th></th>\n",
       "      <th></th>\n",
       "      <th></th>\n",
       "      <th></th>\n",
       "      <th></th>\n",
       "      <th></th>\n",
       "      <th></th>\n",
       "      <th></th>\n",
       "      <th></th>\n",
       "      <th></th>\n",
       "      <th></th>\n",
       "    </tr>\n",
       "  </thead>\n",
       "  <tbody>\n",
       "    <tr>\n",
       "      <th>Action</th>\n",
       "      <td>166</td>\n",
       "      <td>162</td>\n",
       "      <td>165</td>\n",
       "      <td>165</td>\n",
       "      <td>156</td>\n",
       "      <td>165</td>\n",
       "      <td>166</td>\n",
       "      <td>165</td>\n",
       "      <td>166</td>\n",
       "      <td>164</td>\n",
       "      <td>165</td>\n",
       "      <td>164</td>\n",
       "      <td>164</td>\n",
       "      <td>164</td>\n",
       "      <td>166</td>\n",
       "    </tr>\n",
       "    <tr>\n",
       "      <th>Adventure</th>\n",
       "      <td>30</td>\n",
       "      <td>30</td>\n",
       "      <td>30</td>\n",
       "      <td>30</td>\n",
       "      <td>29</td>\n",
       "      <td>30</td>\n",
       "      <td>30</td>\n",
       "      <td>30</td>\n",
       "      <td>30</td>\n",
       "      <td>30</td>\n",
       "      <td>30</td>\n",
       "      <td>30</td>\n",
       "      <td>30</td>\n",
       "      <td>30</td>\n",
       "      <td>30</td>\n",
       "    </tr>\n",
       "    <tr>\n",
       "      <th>Animation</th>\n",
       "      <td>51</td>\n",
       "      <td>51</td>\n",
       "      <td>51</td>\n",
       "      <td>51</td>\n",
       "      <td>48</td>\n",
       "      <td>51</td>\n",
       "      <td>51</td>\n",
       "      <td>50</td>\n",
       "      <td>51</td>\n",
       "      <td>51</td>\n",
       "      <td>51</td>\n",
       "      <td>51</td>\n",
       "      <td>51</td>\n",
       "      <td>51</td>\n",
       "      <td>51</td>\n",
       "    </tr>\n",
       "    <tr>\n",
       "      <th>Biography</th>\n",
       "      <td>14</td>\n",
       "      <td>14</td>\n",
       "      <td>14</td>\n",
       "      <td>14</td>\n",
       "      <td>13</td>\n",
       "      <td>14</td>\n",
       "      <td>14</td>\n",
       "      <td>14</td>\n",
       "      <td>14</td>\n",
       "      <td>14</td>\n",
       "      <td>14</td>\n",
       "      <td>14</td>\n",
       "      <td>14</td>\n",
       "      <td>14</td>\n",
       "      <td>14</td>\n",
       "    </tr>\n",
       "    <tr>\n",
       "      <th>Comedy</th>\n",
       "      <td>177</td>\n",
       "      <td>175</td>\n",
       "      <td>172</td>\n",
       "      <td>172</td>\n",
       "      <td>169</td>\n",
       "      <td>172</td>\n",
       "      <td>177</td>\n",
       "      <td>170</td>\n",
       "      <td>177</td>\n",
       "      <td>169</td>\n",
       "      <td>172</td>\n",
       "      <td>169</td>\n",
       "      <td>168</td>\n",
       "      <td>168</td>\n",
       "      <td>177</td>\n",
       "    </tr>\n",
       "    <tr>\n",
       "      <th>Crime</th>\n",
       "      <td>15</td>\n",
       "      <td>15</td>\n",
       "      <td>15</td>\n",
       "      <td>15</td>\n",
       "      <td>15</td>\n",
       "      <td>13</td>\n",
       "      <td>15</td>\n",
       "      <td>13</td>\n",
       "      <td>15</td>\n",
       "      <td>15</td>\n",
       "      <td>15</td>\n",
       "      <td>15</td>\n",
       "      <td>15</td>\n",
       "      <td>15</td>\n",
       "      <td>15</td>\n",
       "    </tr>\n",
       "    <tr>\n",
       "      <th>Documentary</th>\n",
       "      <td>7</td>\n",
       "      <td>6</td>\n",
       "      <td>5</td>\n",
       "      <td>5</td>\n",
       "      <td>5</td>\n",
       "      <td>7</td>\n",
       "      <td>7</td>\n",
       "      <td>7</td>\n",
       "      <td>7</td>\n",
       "      <td>4</td>\n",
       "      <td>5</td>\n",
       "      <td>5</td>\n",
       "      <td>5</td>\n",
       "      <td>5</td>\n",
       "      <td>7</td>\n",
       "    </tr>\n",
       "    <tr>\n",
       "      <th>Drama</th>\n",
       "      <td>109</td>\n",
       "      <td>109</td>\n",
       "      <td>97</td>\n",
       "      <td>97</td>\n",
       "      <td>89</td>\n",
       "      <td>102</td>\n",
       "      <td>109</td>\n",
       "      <td>101</td>\n",
       "      <td>109</td>\n",
       "      <td>93</td>\n",
       "      <td>97</td>\n",
       "      <td>96</td>\n",
       "      <td>96</td>\n",
       "      <td>96</td>\n",
       "      <td>109</td>\n",
       "    </tr>\n",
       "    <tr>\n",
       "      <th>Fantasy</th>\n",
       "      <td>6</td>\n",
       "      <td>6</td>\n",
       "      <td>6</td>\n",
       "      <td>6</td>\n",
       "      <td>6</td>\n",
       "      <td>5</td>\n",
       "      <td>6</td>\n",
       "      <td>5</td>\n",
       "      <td>6</td>\n",
       "      <td>6</td>\n",
       "      <td>6</td>\n",
       "      <td>6</td>\n",
       "      <td>6</td>\n",
       "      <td>6</td>\n",
       "      <td>6</td>\n",
       "    </tr>\n",
       "    <tr>\n",
       "      <th>Horror</th>\n",
       "      <td>52</td>\n",
       "      <td>51</td>\n",
       "      <td>51</td>\n",
       "      <td>51</td>\n",
       "      <td>48</td>\n",
       "      <td>50</td>\n",
       "      <td>51</td>\n",
       "      <td>50</td>\n",
       "      <td>52</td>\n",
       "      <td>51</td>\n",
       "      <td>52</td>\n",
       "      <td>51</td>\n",
       "      <td>51</td>\n",
       "      <td>50</td>\n",
       "      <td>52</td>\n",
       "    </tr>\n",
       "    <tr>\n",
       "      <th>Musical</th>\n",
       "      <td>4</td>\n",
       "      <td>4</td>\n",
       "      <td>4</td>\n",
       "      <td>4</td>\n",
       "      <td>3</td>\n",
       "      <td>4</td>\n",
       "      <td>4</td>\n",
       "      <td>4</td>\n",
       "      <td>4</td>\n",
       "      <td>4</td>\n",
       "      <td>4</td>\n",
       "      <td>4</td>\n",
       "      <td>4</td>\n",
       "      <td>4</td>\n",
       "      <td>4</td>\n",
       "    </tr>\n",
       "    <tr>\n",
       "      <th>Mystery</th>\n",
       "      <td>5</td>\n",
       "      <td>5</td>\n",
       "      <td>5</td>\n",
       "      <td>5</td>\n",
       "      <td>5</td>\n",
       "      <td>5</td>\n",
       "      <td>5</td>\n",
       "      <td>5</td>\n",
       "      <td>5</td>\n",
       "      <td>5</td>\n",
       "      <td>5</td>\n",
       "      <td>5</td>\n",
       "      <td>5</td>\n",
       "      <td>5</td>\n",
       "      <td>5</td>\n",
       "    </tr>\n",
       "    <tr>\n",
       "      <th>Romance</th>\n",
       "      <td>20</td>\n",
       "      <td>20</td>\n",
       "      <td>19</td>\n",
       "      <td>19</td>\n",
       "      <td>19</td>\n",
       "      <td>19</td>\n",
       "      <td>20</td>\n",
       "      <td>19</td>\n",
       "      <td>20</td>\n",
       "      <td>20</td>\n",
       "      <td>20</td>\n",
       "      <td>20</td>\n",
       "      <td>20</td>\n",
       "      <td>20</td>\n",
       "      <td>20</td>\n",
       "    </tr>\n",
       "    <tr>\n",
       "      <th>Thriller</th>\n",
       "      <td>35</td>\n",
       "      <td>35</td>\n",
       "      <td>35</td>\n",
       "      <td>35</td>\n",
       "      <td>32</td>\n",
       "      <td>34</td>\n",
       "      <td>35</td>\n",
       "      <td>34</td>\n",
       "      <td>35</td>\n",
       "      <td>35</td>\n",
       "      <td>35</td>\n",
       "      <td>35</td>\n",
       "      <td>35</td>\n",
       "      <td>35</td>\n",
       "      <td>35</td>\n",
       "    </tr>\n",
       "  </tbody>\n",
       "</table>\n",
       "</div>"
      ],
      "text/plain": [
       "             Movie  LeadStudio  RottenTomatoes  AudienceScore  Story  \\\n",
       "Genre                                                                  \n",
       "Action         166         162             165            165    156   \n",
       "Adventure       30          30              30             30     29   \n",
       "Animation       51          51              51             51     48   \n",
       "Biography       14          14              14             14     13   \n",
       "Comedy         177         175             172            172    169   \n",
       "Crime           15          15              15             15     15   \n",
       "Documentary      7           6               5              5      5   \n",
       "Drama          109         109              97             97     89   \n",
       "Fantasy          6           6               6              6      6   \n",
       "Horror          52          51              51             51     48   \n",
       "Musical          4           4               4              4      3   \n",
       "Mystery          5           5               5              5      5   \n",
       "Romance         20          20              19             19     19   \n",
       "Thriller        35          35              35             35     32   \n",
       "\n",
       "             TheatersOpenWeek  OpeningWeekend  BOAvgOpenWeekend  \\\n",
       "Genre                                                             \n",
       "Action                    165             166               165   \n",
       "Adventure                  30              30                30   \n",
       "Animation                  51              51                50   \n",
       "Biography                  14              14                14   \n",
       "Comedy                    172             177               170   \n",
       "Crime                      13              15                13   \n",
       "Documentary                 7               7                 7   \n",
       "Drama                     102             109               101   \n",
       "Fantasy                     5               6                 5   \n",
       "Horror                     50              51                50   \n",
       "Musical                     4               4                 4   \n",
       "Mystery                     5               5                 5   \n",
       "Romance                    19              20                19   \n",
       "Thriller                   34              35                34   \n",
       "\n",
       "             DomesticGross  ForeignGross  WorldGross  Budget  Profitability  \\\n",
       "Genre                                                                         \n",
       "Action                 166           164         165     164            164   \n",
       "Adventure               30            30          30      30             30   \n",
       "Animation               51            51          51      51             51   \n",
       "Biography               14            14          14      14             14   \n",
       "Comedy                 177           169         172     169            168   \n",
       "Crime                   15            15          15      15             15   \n",
       "Documentary              7             4           5       5              5   \n",
       "Drama                  109            93          97      96             96   \n",
       "Fantasy                  6             6           6       6              6   \n",
       "Horror                  52            51          52      51             51   \n",
       "Musical                  4             4           4       4              4   \n",
       "Mystery                  5             5           5       5              5   \n",
       "Romance                 20            20          20      20             20   \n",
       "Thriller                35            35          35      35             35   \n",
       "\n",
       "             OpenProfit  Year  \n",
       "Genre                          \n",
       "Action              164   166  \n",
       "Adventure            30    30  \n",
       "Animation            51    51  \n",
       "Biography            14    14  \n",
       "Comedy              168   177  \n",
       "Crime                15    15  \n",
       "Documentary           5     7  \n",
       "Drama                96   109  \n",
       "Fantasy               6     6  \n",
       "Horror               50    52  \n",
       "Musical               4     4  \n",
       "Mystery               5     5  \n",
       "Romance              20    20  \n",
       "Thriller             35    35  "
      ]
     },
     "execution_count": 8,
     "metadata": {},
     "output_type": "execute_result"
    }
   ],
   "source": [
    "movie.groupby('Genre').count()"
   ]
  },
  {
   "cell_type": "code",
   "execution_count": null,
   "id": "f7149c02",
   "metadata": {},
   "outputs": [],
   "source": [
    "#1.Find the highest rated movie in the “Quest” story type."
   ]
  },
  {
   "cell_type": "code",
   "execution_count": 9,
   "id": "a706a954",
   "metadata": {},
   "outputs": [
    {
     "name": "stdout",
     "output_type": "stream",
     "text": [
      "97.0\n"
     ]
    },
    {
     "data": {
      "text/html": [
       "<div>\n",
       "<style scoped>\n",
       "    .dataframe tbody tr th:only-of-type {\n",
       "        vertical-align: middle;\n",
       "    }\n",
       "\n",
       "    .dataframe tbody tr th {\n",
       "        vertical-align: top;\n",
       "    }\n",
       "\n",
       "    .dataframe thead th {\n",
       "        text-align: right;\n",
       "    }\n",
       "</style>\n",
       "<table border=\"1\" class=\"dataframe\">\n",
       "  <thead>\n",
       "    <tr style=\"text-align: right;\">\n",
       "      <th></th>\n",
       "      <th>Movie</th>\n",
       "      <th>LeadStudio</th>\n",
       "      <th>RottenTomatoes</th>\n",
       "      <th>AudienceScore</th>\n",
       "      <th>Story</th>\n",
       "      <th>Genre</th>\n",
       "      <th>TheatersOpenWeek</th>\n",
       "      <th>OpeningWeekend</th>\n",
       "      <th>BOAvgOpenWeekend</th>\n",
       "      <th>DomesticGross</th>\n",
       "      <th>ForeignGross</th>\n",
       "      <th>WorldGross</th>\n",
       "      <th>Budget</th>\n",
       "      <th>Profitability</th>\n",
       "      <th>OpenProfit</th>\n",
       "      <th>Year</th>\n",
       "    </tr>\n",
       "  </thead>\n",
       "  <tbody>\n",
       "    <tr>\n",
       "      <th>10</th>\n",
       "      <td>Ratatouille</td>\n",
       "      <td>Disney</td>\n",
       "      <td>97.0</td>\n",
       "      <td>84.0</td>\n",
       "      <td>Transformation</td>\n",
       "      <td>Animation</td>\n",
       "      <td>3940.0</td>\n",
       "      <td>47.00</td>\n",
       "      <td>11935.0</td>\n",
       "      <td>206.450</td>\n",
       "      <td>417.280</td>\n",
       "      <td>623.720</td>\n",
       "      <td>150.0</td>\n",
       "      <td>415.81</td>\n",
       "      <td>31.33</td>\n",
       "      <td>2007</td>\n",
       "    </tr>\n",
       "    <tr>\n",
       "      <th>343</th>\n",
       "      <td>The Hurt Locker</td>\n",
       "      <td>Independent</td>\n",
       "      <td>97.0</td>\n",
       "      <td>83.0</td>\n",
       "      <td>Quest</td>\n",
       "      <td>Drama</td>\n",
       "      <td>4.0</td>\n",
       "      <td>0.14</td>\n",
       "      <td>36338.0</td>\n",
       "      <td>17.010</td>\n",
       "      <td>32.210</td>\n",
       "      <td>49.220</td>\n",
       "      <td>15.0</td>\n",
       "      <td>328.13</td>\n",
       "      <td>0.93</td>\n",
       "      <td>2009</td>\n",
       "    </tr>\n",
       "    <tr>\n",
       "      <th>611</th>\n",
       "      <td>The Artist</td>\n",
       "      <td>Weinstein</td>\n",
       "      <td>97.0</td>\n",
       "      <td>91.0</td>\n",
       "      <td>NaN</td>\n",
       "      <td>Drama</td>\n",
       "      <td>662.0</td>\n",
       "      <td>2.37</td>\n",
       "      <td>3583.0</td>\n",
       "      <td>44.671</td>\n",
       "      <td>88.761</td>\n",
       "      <td>133.432</td>\n",
       "      <td>16.0</td>\n",
       "      <td>833.95</td>\n",
       "      <td>14.81</td>\n",
       "      <td>2011</td>\n",
       "    </tr>\n",
       "    <tr>\n",
       "      <th>629</th>\n",
       "      <td>The Muppets</td>\n",
       "      <td>Disney</td>\n",
       "      <td>97.0</td>\n",
       "      <td>87.0</td>\n",
       "      <td>Quest</td>\n",
       "      <td>Comedy</td>\n",
       "      <td>3440.0</td>\n",
       "      <td>29.24</td>\n",
       "      <td>8500.0</td>\n",
       "      <td>88.630</td>\n",
       "      <td>76.550</td>\n",
       "      <td>165.180</td>\n",
       "      <td>45.0</td>\n",
       "      <td>367.08</td>\n",
       "      <td>64.98</td>\n",
       "      <td>2011</td>\n",
       "    </tr>\n",
       "    <tr>\n",
       "      <th>830</th>\n",
       "      <td>Gravity</td>\n",
       "      <td>Warner Bros</td>\n",
       "      <td>97.0</td>\n",
       "      <td>85.0</td>\n",
       "      <td>NaN</td>\n",
       "      <td>NaN</td>\n",
       "      <td>3820.0</td>\n",
       "      <td>55.79</td>\n",
       "      <td>14603.0</td>\n",
       "      <td>261.210</td>\n",
       "      <td>427.300</td>\n",
       "      <td>688.510</td>\n",
       "      <td>100.0</td>\n",
       "      <td>688.51</td>\n",
       "      <td>55.79</td>\n",
       "      <td>2013</td>\n",
       "    </tr>\n",
       "  </tbody>\n",
       "</table>\n",
       "</div>"
      ],
      "text/plain": [
       "               Movie   LeadStudio  RottenTomatoes  AudienceScore  \\\n",
       "10       Ratatouille       Disney            97.0           84.0   \n",
       "343  The Hurt Locker  Independent            97.0           83.0   \n",
       "611       The Artist    Weinstein            97.0           91.0   \n",
       "629      The Muppets       Disney            97.0           87.0   \n",
       "830          Gravity  Warner Bros            97.0           85.0   \n",
       "\n",
       "              Story      Genre  TheatersOpenWeek  OpeningWeekend  \\\n",
       "10   Transformation  Animation            3940.0           47.00   \n",
       "343           Quest      Drama               4.0            0.14   \n",
       "611             NaN      Drama             662.0            2.37   \n",
       "629           Quest     Comedy            3440.0           29.24   \n",
       "830             NaN        NaN            3820.0           55.79   \n",
       "\n",
       "     BOAvgOpenWeekend  DomesticGross  ForeignGross  WorldGross  Budget  \\\n",
       "10            11935.0        206.450       417.280     623.720   150.0   \n",
       "343           36338.0         17.010        32.210      49.220    15.0   \n",
       "611            3583.0         44.671        88.761     133.432    16.0   \n",
       "629            8500.0         88.630        76.550     165.180    45.0   \n",
       "830           14603.0        261.210       427.300     688.510   100.0   \n",
       "\n",
       "     Profitability  OpenProfit  Year  \n",
       "10          415.81       31.33  2007  \n",
       "343         328.13        0.93  2009  \n",
       "611         833.95       14.81  2011  \n",
       "629         367.08       64.98  2011  \n",
       "830         688.51       55.79  2013  "
      ]
     },
     "execution_count": 9,
     "metadata": {},
     "output_type": "execute_result"
    }
   ],
   "source": [
    "highest_rate = movie[movie[\"Story\"] == \"Quest\"][\"RottenTomatoes\"].max()\n",
    "print(highest_rate)\n",
    "\n",
    "highest_rated_movies = movie[movie[\"RottenTomatoes\"] == highest_rate]\n",
    "highest_rated_movies"
   ]
  },
  {
   "cell_type": "markdown",
   "id": "a37f179e",
   "metadata": {},
   "source": [
    "#### Observation \n",
    "There are 5 Movies which is highest Ranking"
   ]
  },
  {
   "cell_type": "code",
   "execution_count": null,
   "id": "397ff9cb",
   "metadata": {},
   "outputs": [],
   "source": [
    "#2.Find the genre in which there has been the greatest number of movie releases"
   ]
  },
  {
   "cell_type": "code",
   "execution_count": 10,
   "id": "770d4423",
   "metadata": {
    "scrolled": true
   },
   "outputs": [
    {
     "data": {
      "text/plain": [
       "dict_keys(['Action', 'Adventure', 'Animation', 'Biography', 'Comedy', 'Crime', 'Documentary', 'Drama', 'Fantasy', 'Horror', 'Musical', 'Mystery', 'Romance', 'Thriller'])"
      ]
     },
     "execution_count": 10,
     "metadata": {},
     "output_type": "execute_result"
    }
   ],
   "source": [
    "movie_gener = movie.groupby(\"Genre\").groups\n",
    "movie_gener.keys()"
   ]
  },
  {
   "cell_type": "code",
   "execution_count": 11,
   "id": "22b388a7",
   "metadata": {},
   "outputs": [
    {
     "data": {
      "image/png": "[encoded data removed]",
      "text/plain": [
       "<Figure size 640x480 with 1 Axes>"
      ]
     },
     "metadata": {},
     "output_type": "display_data"
    }
   ],
   "source": [
    "plt.bar(movie_gener.keys(), [len(values) for values in movie_gener.values()])\n",
    "plt.xlabel(\"Genre\")\n",
    "plt.ylabel(\"Number of movies\")\n",
    "plt.title(\"Genre vs Number of Movies\")\n",
    "\n",
    "plt.setp(plt.gca().get_xticklabels(), rotation=90,\n",
    "         horizontalalignment='right') \n",
    "\n",
    "plt.grid()\n",
    "plt.show()"
   ]
  },
  {
   "cell_type": "markdown",
   "id": "593af6f2",
   "metadata": {},
   "source": [
    "#### Observation \n",
    "In Action and Comedy Gener has highest number of movies"
   ]
  },
  {
   "cell_type": "code",
   "execution_count": null,
   "id": "f631c035",
   "metadata": {},
   "outputs": [],
   "source": [
    "#3.Print the names of the top five movies with the costliest budgets."
   ]
  },
  {
   "cell_type": "code",
   "execution_count": 12,
   "id": "93584879",
   "metadata": {
    "scrolled": true
   },
   "outputs": [
    {
     "data": {
      "text/html": [
       "<div>\n",
       "<style scoped>\n",
       "    .dataframe tbody tr th:only-of-type {\n",
       "        vertical-align: middle;\n",
       "    }\n",
       "\n",
       "    .dataframe tbody tr th {\n",
       "        vertical-align: top;\n",
       "    }\n",
       "\n",
       "    .dataframe thead th {\n",
       "        text-align: right;\n",
       "    }\n",
       "</style>\n",
       "<table border=\"1\" class=\"dataframe\">\n",
       "  <thead>\n",
       "    <tr style=\"text-align: right;\">\n",
       "      <th></th>\n",
       "      <th>Movie</th>\n",
       "      <th>LeadStudio</th>\n",
       "      <th>RottenTomatoes</th>\n",
       "      <th>AudienceScore</th>\n",
       "      <th>Story</th>\n",
       "      <th>Genre</th>\n",
       "      <th>TheatersOpenWeek</th>\n",
       "      <th>OpeningWeekend</th>\n",
       "      <th>BOAvgOpenWeekend</th>\n",
       "      <th>DomesticGross</th>\n",
       "      <th>ForeignGross</th>\n",
       "      <th>WorldGross</th>\n",
       "      <th>Budget</th>\n",
       "      <th>Profitability</th>\n",
       "      <th>OpenProfit</th>\n",
       "      <th>Year</th>\n",
       "    </tr>\n",
       "  </thead>\n",
       "  <tbody>\n",
       "    <tr>\n",
       "      <th>3</th>\n",
       "      <td>Pirates of the Caribbean: At World's End</td>\n",
       "      <td>Disney</td>\n",
       "      <td>45.0</td>\n",
       "      <td>74.0</td>\n",
       "      <td>Rescue</td>\n",
       "      <td>Action</td>\n",
       "      <td>4362.0</td>\n",
       "      <td>114.70</td>\n",
       "      <td>26302.0</td>\n",
       "      <td>309.42</td>\n",
       "      <td>654.00</td>\n",
       "      <td>963.420</td>\n",
       "      <td>300.0</td>\n",
       "      <td>321.14</td>\n",
       "      <td>38.23</td>\n",
       "      <td>2007</td>\n",
       "    </tr>\n",
       "    <tr>\n",
       "      <th>468</th>\n",
       "      <td>Tangled</td>\n",
       "      <td>Disney</td>\n",
       "      <td>89.0</td>\n",
       "      <td>88.0</td>\n",
       "      <td>Love</td>\n",
       "      <td>Animation</td>\n",
       "      <td>3603.0</td>\n",
       "      <td>48.77</td>\n",
       "      <td>13535.0</td>\n",
       "      <td>200.82</td>\n",
       "      <td>390.97</td>\n",
       "      <td>591.794</td>\n",
       "      <td>260.0</td>\n",
       "      <td>227.61</td>\n",
       "      <td>18.76</td>\n",
       "      <td>2010</td>\n",
       "    </tr>\n",
       "    <tr>\n",
       "      <th>0</th>\n",
       "      <td>Spider-Man 3</td>\n",
       "      <td>Sony</td>\n",
       "      <td>61.0</td>\n",
       "      <td>54.0</td>\n",
       "      <td>Metamorphosis</td>\n",
       "      <td>Action</td>\n",
       "      <td>4252.0</td>\n",
       "      <td>151.10</td>\n",
       "      <td>35540.0</td>\n",
       "      <td>336.53</td>\n",
       "      <td>554.34</td>\n",
       "      <td>890.870</td>\n",
       "      <td>258.0</td>\n",
       "      <td>345.30</td>\n",
       "      <td>58.57</td>\n",
       "      <td>2007</td>\n",
       "    </tr>\n",
       "    <tr>\n",
       "      <th>778</th>\n",
       "      <td>The Dark Knight Rises</td>\n",
       "      <td>Warner Bros</td>\n",
       "      <td>88.0</td>\n",
       "      <td>90.0</td>\n",
       "      <td>NaN</td>\n",
       "      <td>NaN</td>\n",
       "      <td>4404.0</td>\n",
       "      <td>160.89</td>\n",
       "      <td>36532.0</td>\n",
       "      <td>448.14</td>\n",
       "      <td>636.30</td>\n",
       "      <td>1084.440</td>\n",
       "      <td>250.0</td>\n",
       "      <td>433.78</td>\n",
       "      <td>64.36</td>\n",
       "      <td>2012</td>\n",
       "    </tr>\n",
       "    <tr>\n",
       "      <th>241</th>\n",
       "      <td>Harry Potter and the Half-Blood Prince</td>\n",
       "      <td>Warner Bros</td>\n",
       "      <td>83.0</td>\n",
       "      <td>75.0</td>\n",
       "      <td>Quest</td>\n",
       "      <td>Adventure</td>\n",
       "      <td>4325.0</td>\n",
       "      <td>77.80</td>\n",
       "      <td>17997.0</td>\n",
       "      <td>302.00</td>\n",
       "      <td>632.00</td>\n",
       "      <td>934.000</td>\n",
       "      <td>250.0</td>\n",
       "      <td>373.60</td>\n",
       "      <td>31.12</td>\n",
       "      <td>2009</td>\n",
       "    </tr>\n",
       "  </tbody>\n",
       "</table>\n",
       "</div>"
      ],
      "text/plain": [
       "                                        Movie   LeadStudio  RottenTomatoes  \\\n",
       "3    Pirates of the Caribbean: At World's End       Disney            45.0   \n",
       "468                                   Tangled       Disney            89.0   \n",
       "0                                Spider-Man 3         Sony            61.0   \n",
       "778                     The Dark Knight Rises  Warner Bros            88.0   \n",
       "241    Harry Potter and the Half-Blood Prince  Warner Bros            83.0   \n",
       "\n",
       "     AudienceScore          Story      Genre  TheatersOpenWeek  \\\n",
       "3             74.0         Rescue     Action            4362.0   \n",
       "468           88.0           Love  Animation            3603.0   \n",
       "0             54.0  Metamorphosis     Action            4252.0   \n",
       "778           90.0            NaN        NaN            4404.0   \n",
       "241           75.0          Quest  Adventure            4325.0   \n",
       "\n",
       "     OpeningWeekend  BOAvgOpenWeekend  DomesticGross  ForeignGross  \\\n",
       "3            114.70           26302.0         309.42        654.00   \n",
       "468           48.77           13535.0         200.82        390.97   \n",
       "0            151.10           35540.0         336.53        554.34   \n",
       "778          160.89           36532.0         448.14        636.30   \n",
       "241           77.80           17997.0         302.00        632.00   \n",
       "\n",
       "     WorldGross  Budget  Profitability  OpenProfit  Year  \n",
       "3       963.420   300.0         321.14       38.23  2007  \n",
       "468     591.794   260.0         227.61       18.76  2010  \n",
       "0       890.870   258.0         345.30       58.57  2007  \n",
       "778    1084.440   250.0         433.78       64.36  2012  \n",
       "241     934.000   250.0         373.60       31.12  2009  "
      ]
     },
     "execution_count": 12,
     "metadata": {},
     "output_type": "execute_result"
    }
   ],
   "source": [
    "costliest_budget = movie.sort_values(\"Budget\",ascending = False)\n",
    "costliest_budget.head()"
   ]
  },
  {
   "cell_type": "code",
   "execution_count": null,
   "id": "d8560969",
   "metadata": {},
   "outputs": [],
   "source": [
    "#4.Is there any correspondence between the critics’ evaluation of a movie and its acceptance by the public? \n",
    "#Find out, by plotting the net profitability of a movie against the ratings it receives on Rotten Tomatoes."
   ]
  },
  {
   "cell_type": "code",
   "execution_count": 13,
   "id": "0e7de247",
   "metadata": {},
   "outputs": [
    {
     "data": {
      "image/png": "[encoded data removed]",
      "text/plain": [
       "<Figure size 640x480 with 1 Axes>"
      ]
     },
     "metadata": {},
     "output_type": "display_data"
    }
   ],
   "source": [
    "plt.scatter(movie[\"RottenTomatoes\"], movie[\"AudienceScore\"])\n",
    "plt.show()"
   ]
  },
  {
   "cell_type": "code",
   "execution_count": 14,
   "id": "a79f58a5",
   "metadata": {},
   "outputs": [
    {
     "data": {
      "image/png": "[encoded data removed]",
      "text/plain": [
       "<Figure size 640x480 with 1 Axes>"
      ]
     },
     "metadata": {},
     "output_type": "display_data"
    }
   ],
   "source": [
    "plt.scatter(movie[\"RottenTomatoes\"], movie[\"Profitability\"])\n",
    "plt.show()"
   ]
  },
  {
   "cell_type": "code",
   "execution_count": null,
   "id": "379d54dd",
   "metadata": {},
   "outputs": [],
   "source": [
    "#5.1 From the raw data below create a data frame"
   ]
  },
  {
   "cell_type": "code",
   "execution_count": 15,
   "id": "37bbf948",
   "metadata": {},
   "outputs": [
    {
     "data": {
      "text/html": [
       "<div>\n",
       "<style scoped>\n",
       "    .dataframe tbody tr th:only-of-type {\n",
       "        vertical-align: middle;\n",
       "    }\n",
       "\n",
       "    .dataframe tbody tr th {\n",
       "        vertical-align: top;\n",
       "    }\n",
       "\n",
       "    .dataframe thead th {\n",
       "        text-align: right;\n",
       "    }\n",
       "</style>\n",
       "<table border=\"1\" class=\"dataframe\">\n",
       "  <thead>\n",
       "    <tr style=\"text-align: right;\">\n",
       "      <th></th>\n",
       "      <th>first_name</th>\n",
       "      <th>last_name</th>\n",
       "      <th>age</th>\n",
       "      <th>preTestScore</th>\n",
       "      <th>postTestScore</th>\n",
       "    </tr>\n",
       "  </thead>\n",
       "  <tbody>\n",
       "    <tr>\n",
       "      <th>0</th>\n",
       "      <td>Jason</td>\n",
       "      <td>Miller</td>\n",
       "      <td>42</td>\n",
       "      <td>4</td>\n",
       "      <td>25,000</td>\n",
       "    </tr>\n",
       "    <tr>\n",
       "      <th>1</th>\n",
       "      <td>Molly</td>\n",
       "      <td>Jacobson</td>\n",
       "      <td>52</td>\n",
       "      <td>24</td>\n",
       "      <td>94,000</td>\n",
       "    </tr>\n",
       "    <tr>\n",
       "      <th>2</th>\n",
       "      <td>Tina</td>\n",
       "      <td>.</td>\n",
       "      <td>36</td>\n",
       "      <td>31</td>\n",
       "      <td>57</td>\n",
       "    </tr>\n",
       "    <tr>\n",
       "      <th>3</th>\n",
       "      <td>Jake</td>\n",
       "      <td>Milner</td>\n",
       "      <td>24</td>\n",
       "      <td>.</td>\n",
       "      <td>62</td>\n",
       "    </tr>\n",
       "    <tr>\n",
       "      <th>4</th>\n",
       "      <td>Amy</td>\n",
       "      <td>Cooze</td>\n",
       "      <td>73</td>\n",
       "      <td>.</td>\n",
       "      <td>70</td>\n",
       "    </tr>\n",
       "  </tbody>\n",
       "</table>\n",
       "</div>"
      ],
      "text/plain": [
       "  first_name last_name  age preTestScore postTestScore\n",
       "0      Jason    Miller   42            4        25,000\n",
       "1      Molly  Jacobson   52           24        94,000\n",
       "2       Tina         .   36           31            57\n",
       "3       Jake    Milner   24            .            62\n",
       "4        Amy     Cooze   73            .            70"
      ]
     },
     "execution_count": 15,
     "metadata": {},
     "output_type": "execute_result"
    }
   ],
   "source": [
    "df =pd.DataFrame({'first_name': ['Jason', 'Molly', 'Tina', 'Jake', 'Amy'],\n",
    "\n",
    "      'last_name': ['Miller', 'Jacobson', \".\", 'Milner', 'Cooze'],\n",
    "\n",
    "      'age': [42, 52, 36, 24, 73],\n",
    "\n",
    "      'preTestScore': [4, 24, 31, \".\", \".\"],\n",
    "\n",
    "      'postTestScore': [\"25,000\", \"94,000\", 57, 62, 70]})\n",
    "\n",
    "df"
   ]
  },
  {
   "cell_type": "code",
   "execution_count": null,
   "id": "394a299a",
   "metadata": {},
   "outputs": [],
   "source": [
    "#5.2 Save the dataframe into a csv file as example.csv"
   ]
  },
  {
   "cell_type": "code",
   "execution_count": 16,
   "id": "f60163b8",
   "metadata": {},
   "outputs": [
    {
     "name": "stdout",
     "output_type": "stream",
     "text": [
      "********************\n"
     ]
    }
   ],
   "source": [
    "df.to_csv(\"example.csv\")\n",
    "print(\"*\"*20)"
   ]
  },
  {
   "cell_type": "code",
   "execution_count": null,
   "id": "c60190ab",
   "metadata": {},
   "outputs": [],
   "source": [
    "#5.3: Read the example.csv and print the data frame"
   ]
  },
  {
   "cell_type": "code",
   "execution_count": 17,
   "id": "ec2a5559",
   "metadata": {},
   "outputs": [
    {
     "name": "stdout",
     "output_type": "stream",
     "text": [
      "   Unnamed: 0 first_name last_name  age preTestScore postTestScore\n",
      "0           0      Jason    Miller   42            4        25,000\n",
      "1           1      Molly  Jacobson   52           24        94,000\n",
      "2           2       Tina         .   36           31            57\n",
      "3           3       Jake    Milner   24            .            62\n",
      "4           4        Amy     Cooze   73            .            70\n"
     ]
    }
   ],
   "source": [
    "df = pd.read_csv(\"example.csv\")\n",
    "print(df)"
   ]
  },
  {
   "cell_type": "code",
   "execution_count": null,
   "id": "172bb384",
   "metadata": {},
   "outputs": [],
   "source": [
    "#5.4: Read the example.csv without column heading"
   ]
  },
  {
   "cell_type": "code",
   "execution_count": 18,
   "id": "40a0c21d",
   "metadata": {},
   "outputs": [
    {
     "name": "stdout",
     "output_type": "stream",
     "text": [
      "     0           1          2    3             4              5\n",
      "0  NaN  first_name  last_name  age  preTestScore  postTestScore\n",
      "1  0.0       Jason     Miller   42             4         25,000\n",
      "2  1.0       Molly   Jacobson   52            24         94,000\n",
      "3  2.0        Tina          .   36            31             57\n",
      "4  3.0        Jake     Milner   24             .             62\n",
      "5  4.0         Amy      Cooze   73             .             70\n"
     ]
    }
   ],
   "source": [
    "df_without_header = pd.read_csv(\"example.csv\", header=None)\n",
    "print(df_without_header)\n"
   ]
  },
  {
   "cell_type": "code",
   "execution_count": null,
   "id": "0680875d",
   "metadata": {},
   "outputs": [],
   "source": [
    "#5.5: Read the example.csv and make the index columns as 'First Name’ and 'Last Name'"
   ]
  },
  {
   "cell_type": "code",
   "execution_count": 19,
   "id": "f9cdae2e",
   "metadata": {},
   "outputs": [
    {
     "name": "stdout",
     "output_type": "stream",
     "text": [
      "                      Unnamed: 0  age preTestScore postTestScore\n",
      "first_name last_name                                            \n",
      "Jason      Miller              0   42            4        25,000\n",
      "Molly      Jacobson            1   52           24        94,000\n",
      "Tina       .                   2   36           31            57\n",
      "Jake       Milner              3   24            .            62\n",
      "Amy        Cooze               4   73            .            70\n"
     ]
    }
   ],
   "source": [
    "df_with_index = pd.read_csv(\"example.csv\", index_col=[\"first_name\", \"last_name\"])\n",
    "print(df_with_index)"
   ]
  },
  {
   "cell_type": "code",
   "execution_count": null,
   "id": "0fc93b80",
   "metadata": {},
   "outputs": [],
   "source": [
    "#5.6: Print the data frame in a Boolean form as True or False. True for Null/ NaN values and false for non-null values"
   ]
  },
  {
   "cell_type": "code",
   "execution_count": 20,
   "id": "a442fc97",
   "metadata": {},
   "outputs": [
    {
     "name": "stdout",
     "output_type": "stream",
     "text": [
      "Unnamed: 0       False\n",
      "first_name       False\n",
      "last_name        False\n",
      "age              False\n",
      "preTestScore     False\n",
      "postTestScore    False\n",
      "dtype: bool\n"
     ]
    }
   ],
   "source": [
    "boolean_df = df.isnull().any()\n",
    "print(boolean_df)"
   ]
  },
  {
   "cell_type": "code",
   "execution_count": null,
   "id": "2c3570cd",
   "metadata": {},
   "outputs": [],
   "source": [
    "#5.7: Read the dataframe by skipping first 3 rows and print the data frame"
   ]
  },
  {
   "cell_type": "code",
   "execution_count": 21,
   "id": "fe293f6b",
   "metadata": {},
   "outputs": [
    {
     "name": "stdout",
     "output_type": "stream",
     "text": [
      "   2  Tina       .  36 31  57\n",
      "0  3  Jake  Milner  24  .  62\n",
      "1  4   Amy   Cooze  73  .  70\n"
     ]
    }
   ],
   "source": [
    "df_skip_rows = pd.read_csv(\"example.csv\", skiprows=3)\n",
    "print(df_skip_rows)"
   ]
  },
  {
   "cell_type": "code",
   "execution_count": null,
   "id": "fcf65dbf",
   "metadata": {},
   "outputs": [],
   "source": [
    "#5.8: Load a csv file while interpreting \",\" in strings around numbers as thousands seperators. \n",
    "#Check the raw data 'postTestScore' column has, as thousands separator. Comma should be ignored while reading the data. \n",
    "#It is default behaviour, but you need to give argument to read_csv function which makes sure commas are ignored."
   ]
  },
  {
   "cell_type": "code",
   "execution_count": null,
   "id": "777891d3",
   "metadata": {},
   "outputs": [],
   "source": []
  },
  {
   "cell_type": "code",
   "execution_count": null,
   "id": "5b6fac56",
   "metadata": {},
   "outputs": [],
   "source": [
    "#6. Perform Operations on Files\n",
    "#6.1: From the raw data below create a Pandas Series"
   ]
  },
  {
   "cell_type": "code",
   "execution_count": 22,
   "id": "e84f2e2e",
   "metadata": {},
   "outputs": [
    {
     "data": {
      "text/plain": [
       "0    Amit\n",
       "1     Bob\n",
       "2    Kate\n",
       "3       A\n",
       "4       b\n",
       "5     NaN\n",
       "6     Car\n",
       "7     dog\n",
       "8     cat\n",
       "dtype: object"
      ]
     },
     "execution_count": 22,
     "metadata": {},
     "output_type": "execute_result"
    }
   ],
   "source": [
    "df = ['Amit', 'Bob', 'Kate', 'A', 'b', np.nan, 'Car', 'dog', 'cat']\n",
    "series = pd.Series(df)\n",
    "series"
   ]
  },
  {
   "cell_type": "code",
   "execution_count": null,
   "id": "30fea146",
   "metadata": {},
   "outputs": [],
   "source": [
    "#a)Print all elements in lower case"
   ]
  },
  {
   "cell_type": "code",
   "execution_count": 23,
   "id": "979bf549",
   "metadata": {},
   "outputs": [
    {
     "name": "stdout",
     "output_type": "stream",
     "text": [
      "['amit', 'bob', 'kate', 'a', 'b', 'nan', 'car', 'dog', 'cat']\n"
     ]
    }
   ],
   "source": [
    "series_lower_cases = [str(element).lower() for element in series]\n",
    "print(series_lower_cases)"
   ]
  },
  {
   "cell_type": "code",
   "execution_count": null,
   "id": "8cb4964e",
   "metadata": {},
   "outputs": [],
   "source": [
    "#b)Print all the elements in upper case"
   ]
  },
  {
   "cell_type": "code",
   "execution_count": 24,
   "id": "14685301",
   "metadata": {},
   "outputs": [
    {
     "name": "stdout",
     "output_type": "stream",
     "text": [
      "['AMIT', 'BOB', 'KATE', 'A', 'B', 'NAN', 'CAR', 'DOG', 'CAT']\n"
     ]
    }
   ],
   "source": [
    "series_lower_cases = [str(element).upper() for element in series]\n",
    "print(series_lower_cases)"
   ]
  },
  {
   "cell_type": "code",
   "execution_count": null,
   "id": "688fe8d6",
   "metadata": {},
   "outputs": [],
   "source": [
    "#c)Print the length of all the elements"
   ]
  },
  {
   "cell_type": "code",
   "execution_count": 25,
   "id": "8107fdfa",
   "metadata": {},
   "outputs": [
    {
     "name": "stdout",
     "output_type": "stream",
     "text": [
      "9\n"
     ]
    }
   ],
   "source": [
    "print(len(series))"
   ]
  },
  {
   "cell_type": "code",
   "execution_count": null,
   "id": "c42c4200",
   "metadata": {},
   "outputs": [],
   "source": [
    "#6.2: From the raw data below create a Pandas Series"
   ]
  },
  {
   "cell_type": "code",
   "execution_count": 26,
   "id": "c0202267",
   "metadata": {},
   "outputs": [
    {
     "data": {
      "text/plain": [
       "0      Atul\n",
       "1     John \n",
       "2     jack \n",
       "3       Sam\n",
       "dtype: object"
      ]
     },
     "execution_count": 26,
     "metadata": {},
     "output_type": "execute_result"
    }
   ],
   "source": [
    "df = [' Atul', 'John ', ' jack ', 'Sam']\n",
    "series = pd.Series(df) \n",
    "series"
   ]
  },
  {
   "cell_type": "code",
   "execution_count": null,
   "id": "d6424ffe",
   "metadata": {},
   "outputs": [],
   "source": [
    "#a.Print all elements after stripping spaces from the left and right"
   ]
  },
  {
   "cell_type": "code",
   "execution_count": 27,
   "id": "48a7b0a4",
   "metadata": {},
   "outputs": [
    {
     "name": "stdout",
     "output_type": "stream",
     "text": [
      "['Atul', 'John', 'jack', 'Sam']\n"
     ]
    }
   ],
   "source": [
    "series_stripped = [str(element).strip() for element in series]\n",
    "print(series_stripped)"
   ]
  },
  {
   "cell_type": "code",
   "execution_count": null,
   "id": "d84ba4cb",
   "metadata": {},
   "outputs": [],
   "source": [
    "#b.Print all the elements after removing spaces from the left only"
   ]
  },
  {
   "cell_type": "code",
   "execution_count": 28,
   "id": "ba9f7620",
   "metadata": {},
   "outputs": [
    {
     "name": "stdout",
     "output_type": "stream",
     "text": [
      "['Atul', 'John ', 'jack ', 'Sam']\n"
     ]
    }
   ],
   "source": [
    "series_lstripped = [str(ele).lstrip() for ele in series]\n",
    "print(series_lstripped)"
   ]
  },
  {
   "cell_type": "code",
   "execution_count": null,
   "id": "31fb4196",
   "metadata": {},
   "outputs": [],
   "source": [
    "#c.Print all the elements after removing spaces from the right only"
   ]
  },
  {
   "cell_type": "code",
   "execution_count": 29,
   "id": "1e53e495",
   "metadata": {},
   "outputs": [
    {
     "name": "stdout",
     "output_type": "stream",
     "text": [
      "[' Atul', 'John', ' jack', 'Sam']\n"
     ]
    }
   ],
   "source": [
    "series_lstripped = [str(ele).rstrip() for ele in series]\n",
    "print(series_lstripped)"
   ]
  },
  {
   "cell_type": "code",
   "execution_count": null,
   "id": "face054b",
   "metadata": {},
   "outputs": [],
   "source": [
    "#6.3: - Create a series from the raw data below"
   ]
  },
  {
   "cell_type": "code",
   "execution_count": 30,
   "id": "4aa4f48d",
   "metadata": {},
   "outputs": [
    {
     "data": {
      "text/plain": [
       "0           India_is_big\n",
       "1     Population_is_huge\n",
       "2                    NaN\n",
       "3    Has_diverse_culture\n",
       "dtype: object"
      ]
     },
     "execution_count": 30,
     "metadata": {},
     "output_type": "execute_result"
    }
   ],
   "source": [
    "df = ['India_is_big', 'Population_is_huge', np.nan, 'Has_diverse_culture']\n",
    "series = pd.Series(df)\n",
    "series"
   ]
  },
  {
   "cell_type": "code",
   "execution_count": null,
   "id": "57a42e0e",
   "metadata": {},
   "outputs": [],
   "source": [
    "#a)split the individual strings wherever ‘_’ comes and create a list out of it."
   ]
  },
  {
   "cell_type": "code",
   "execution_count": 31,
   "id": "0e0d57d6",
   "metadata": {},
   "outputs": [
    {
     "name": "stdout",
     "output_type": "stream",
     "text": [
      "[['India', 'is', 'big'], ['Population', 'is', 'huge'], ['nan'], ['Has', 'diverse', 'culture']]\n"
     ]
    }
   ],
   "source": [
    "list_splited = [str(ele).split(\"_\") for ele in series]\n",
    "print(list_splited)\n",
    "flatten_list = []"
   ]
  },
  {
   "cell_type": "code",
   "execution_count": null,
   "id": "2ee4d604",
   "metadata": {},
   "outputs": [],
   "source": [
    "#b)Access the individual element of a list"
   ]
  },
  {
   "cell_type": "code",
   "execution_count": 32,
   "id": "0b5ce6be",
   "metadata": {},
   "outputs": [
    {
     "name": "stdout",
     "output_type": "stream",
     "text": [
      "India\n",
      "is\n",
      "big\n",
      "Population\n",
      "is\n",
      "huge\n",
      "nan\n",
      "Has\n",
      "diverse\n",
      "culture\n"
     ]
    }
   ],
   "source": [
    "for sublist in list_splited:\n",
    "    for l in sublist:\n",
    "        flatten_list.append(l)\n",
    "        print(l)"
   ]
  },
  {
   "cell_type": "code",
   "execution_count": null,
   "id": "8481f832",
   "metadata": {},
   "outputs": [],
   "source": [
    "#c)Expand the elements so that all individual elements get splitted by ‘_’ and insted of list returns individual elements"
   ]
  },
  {
   "cell_type": "code",
   "execution_count": 33,
   "id": "853424fd",
   "metadata": {},
   "outputs": [
    {
     "name": "stdout",
     "output_type": "stream",
     "text": [
      "['India', 'is', 'big', 'Population', 'is', 'huge', 'nan', 'Has', 'diverse', 'culture']\n"
     ]
    }
   ],
   "source": [
    "print(flatten_list)"
   ]
  },
  {
   "cell_type": "code",
   "execution_count": null,
   "id": "41110d70",
   "metadata": {},
   "outputs": [],
   "source": [
    "#6.4 Create a series \n",
    "\n",
    "#'A', 'B', 'C', 'AabX', 'BacX','', np.nan, 'CABA', 'dog', 'cat'\n",
    "\n",
    " #and replace either a (a is second character in a line, then replace first and second character) or dog with XX-XX'\n"
   ]
  },
  {
   "cell_type": "code",
   "execution_count": 34,
   "id": "1f187a04",
   "metadata": {},
   "outputs": [
    {
     "data": {
      "text/plain": [
       "0       A\n",
       "1       B\n",
       "2       C\n",
       "3    AabX\n",
       "4    BacX\n",
       "5        \n",
       "6     NaN\n",
       "7    CABA\n",
       "8     dog\n",
       "9     cat\n",
       "dtype: object"
      ]
     },
     "execution_count": 34,
     "metadata": {},
     "output_type": "execute_result"
    }
   ],
   "source": [
    "df = ['A', 'B', 'C', 'AabX', 'BacX','', np.nan, 'CABA', 'dog', 'cat']\n",
    "series = pd.Series(df)\n",
    "series"
   ]
  },
  {
   "cell_type": "code",
   "execution_count": 35,
   "id": "ae089e45",
   "metadata": {},
   "outputs": [
    {
     "name": "stdout",
     "output_type": "stream",
     "text": [
      "['A', 'B', 'C', 'AabX', 'BacX', '', 'nan', 'CABA', 'XX-XX', 'cat']\n"
     ]
    }
   ],
   "source": [
    "series_replace_X = [str(ele).replace(\"dog\", \"XX-XX\") for ele in series]\n",
    "print(series_replace_X)"
   ]
  },
  {
   "cell_type": "code",
   "execution_count": null,
   "id": "109a10f4",
   "metadata": {},
   "outputs": [],
   "source": [
    "#6.5: Create a series and remove dollar from the numeric values '12', '-$10', '$10,000'"
   ]
  },
  {
   "cell_type": "code",
   "execution_count": 36,
   "id": "f0493129",
   "metadata": {},
   "outputs": [
    {
     "data": {
      "text/plain": [
       "0         12\n",
       "1       -$10\n",
       "2    $10,000\n",
       "dtype: object"
      ]
     },
     "execution_count": 36,
     "metadata": {},
     "output_type": "execute_result"
    }
   ],
   "source": [
    "df = ['12', '-$10', '$10,000']\n",
    "series = pd.Series(df)\n",
    "series"
   ]
  },
  {
   "cell_type": "code",
   "execution_count": 37,
   "id": "2a8b93a8",
   "metadata": {},
   "outputs": [
    {
     "name": "stdout",
     "output_type": "stream",
     "text": [
      "['12', '-10', '10,000']\n"
     ]
    }
   ],
   "source": [
    "series_remove_dollar = [str(ele).replace(\"$\", \"\") for ele in series]\n",
    "print(series_remove_dollar)"
   ]
  },
  {
   "cell_type": "code",
   "execution_count": null,
   "id": "9b8513ea",
   "metadata": {},
   "outputs": [],
   "source": [
    "#6.6: Create a series and reverse all lower-case words "
   ]
  },
  {
   "cell_type": "code",
   "execution_count": 38,
   "id": "6f3325cb",
   "metadata": {},
   "outputs": [
    {
     "data": {
      "text/plain": [
       "0     india 1998\n",
       "1    big country\n",
       "2            NaN\n",
       "dtype: object"
      ]
     },
     "execution_count": 38,
     "metadata": {},
     "output_type": "execute_result"
    }
   ],
   "source": [
    "df = ['india 1998', 'big country', np.nan]\n",
    "series = pd.Series(df)\n",
    "series"
   ]
  },
  {
   "cell_type": "code",
   "execution_count": 39,
   "id": "7faf6ec1",
   "metadata": {},
   "outputs": [
    {
     "name": "stdout",
     "output_type": "stream",
     "text": [
      "2            NaN\n",
      "1    big country\n",
      "0     india 1998\n",
      "dtype: object\n"
     ]
    }
   ],
   "source": [
    "print(series[::-1])"
   ]
  },
  {
   "cell_type": "code",
   "execution_count": null,
   "id": "18313ca9",
   "metadata": {},
   "outputs": [],
   "source": [
    "#6.7: Create pandas series and print true if value is alphanumeric in series or false if value is not alpha numeric in series."
   ]
  },
  {
   "cell_type": "code",
   "execution_count": 40,
   "id": "b73fb756",
   "metadata": {},
   "outputs": [
    {
     "data": {
      "text/plain": [
       "0        1\n",
       "1        2\n",
       "2       1a\n",
       "3       2b\n",
       "4    2003c\n",
       "dtype: object"
      ]
     },
     "execution_count": 40,
     "metadata": {},
     "output_type": "execute_result"
    }
   ],
   "source": [
    "df1 = ['1', '2', '1a', '2b', '2003c']\n",
    "series = pd.Series(df1)\n",
    "series"
   ]
  },
  {
   "cell_type": "code",
   "execution_count": 41,
   "id": "533c3666",
   "metadata": {},
   "outputs": [
    {
     "name": "stdout",
     "output_type": "stream",
     "text": [
      "[True, True, True, True, True]\n"
     ]
    }
   ],
   "source": [
    "series_aplha_check = [str(ele).isalnum() for ele in series]\n",
    "print(series_aplha_check)"
   ]
  },
  {
   "cell_type": "code",
   "execution_count": null,
   "id": "e3b9718f",
   "metadata": {},
   "outputs": [],
   "source": [
    "#6.8: Create pandas series and print true if value is containing ‘A’"
   ]
  },
  {
   "cell_type": "code",
   "execution_count": 42,
   "id": "5cbc7c3e",
   "metadata": {},
   "outputs": [
    {
     "data": {
      "text/plain": [
       "0          1\n",
       "1          2\n",
       "2         1a\n",
       "3         2b\n",
       "4    America\n",
       "5    VietnAm\n",
       "6    vietnam\n",
       "7      2003c\n",
       "dtype: object"
      ]
     },
     "execution_count": 42,
     "metadata": {},
     "output_type": "execute_result"
    }
   ],
   "source": [
    "df = ['1', '2', '1a', '2b', 'America', 'VietnAm','vietnam', '2003c']\n",
    "series = pd.Series(df)\n",
    "series"
   ]
  },
  {
   "cell_type": "code",
   "execution_count": 43,
   "id": "218ec74f",
   "metadata": {},
   "outputs": [
    {
     "name": "stdout",
     "output_type": "stream",
     "text": [
      "[False, False, False, False, True, True, False, False]\n"
     ]
    }
   ],
   "source": [
    "series_true_if_contains_A = [\"A\" in str(ele) for ele in series]\n",
    "print(series_true_if_contains_A)"
   ]
  },
  {
   "cell_type": "code",
   "execution_count": null,
   "id": "ac619351",
   "metadata": {},
   "outputs": [],
   "source": [
    "#6.9: Create pandas series and print in three columns value 0 or 1 is a or b or c exists in values"
   ]
  },
  {
   "cell_type": "code",
   "execution_count": 44,
   "id": "4b5ab2ac",
   "metadata": {},
   "outputs": [
    {
     "data": {
      "text/plain": [
       "0      a\n",
       "1    a|b\n",
       "2    NaN\n",
       "3    a|c\n",
       "dtype: object"
      ]
     },
     "execution_count": 44,
     "metadata": {},
     "output_type": "execute_result"
    }
   ],
   "source": [
    "df = ['a', 'a|b', np.nan, 'a|c']\n",
    "series = pd.Series(df)\n",
    "series"
   ]
  },
  {
   "cell_type": "code",
   "execution_count": 45,
   "id": "97ded9b4",
   "metadata": {},
   "outputs": [
    {
     "name": "stdout",
     "output_type": "stream",
     "text": [
      "[1, 1, 0, 1]\n"
     ]
    }
   ],
   "source": [
    "import re\n",
    "series_a_b_c_exists = [1 if re.match(\"[abc]\", str(ele)) else 0 for ele in series]\n",
    "print(series_a_b_c_exists)"
   ]
  },
  {
   "cell_type": "code",
   "execution_count": null,
   "id": "d46d7e77",
   "metadata": {},
   "outputs": [],
   "source": [
    "#6.10: Create pandas dataframe having keys and ltable and rtable as below -"
   ]
  },
  {
   "cell_type": "code",
   "execution_count": 46,
   "id": "8fe47e05",
   "metadata": {},
   "outputs": [
    {
     "name": "stdout",
     "output_type": "stream",
     "text": [
      "   key  ltable\n",
      "0  One       1\n",
      "1  Two       2\n",
      "   key  rtable\n",
      "0  One       4\n",
      "1  Two       5\n"
     ]
    }
   ],
   "source": [
    "a = pd.DataFrame({'key': ['One', 'Two'], 'ltable': [1, 2]})\n",
    "b = pd.DataFrame({'key': ['One', 'Two'], 'rtable': [4, 5]})\n",
    "print(a)\n",
    "print(b)"
   ]
  },
  {
   "cell_type": "code",
   "execution_count": 47,
   "id": "db0f7a78",
   "metadata": {},
   "outputs": [
    {
     "data": {
      "text/html": [
       "<div>\n",
       "<style scoped>\n",
       "    .dataframe tbody tr th:only-of-type {\n",
       "        vertical-align: middle;\n",
       "    }\n",
       "\n",
       "    .dataframe tbody tr th {\n",
       "        vertical-align: top;\n",
       "    }\n",
       "\n",
       "    .dataframe thead th {\n",
       "        text-align: right;\n",
       "    }\n",
       "</style>\n",
       "<table border=\"1\" class=\"dataframe\">\n",
       "  <thead>\n",
       "    <tr style=\"text-align: right;\">\n",
       "      <th></th>\n",
       "      <th>key</th>\n",
       "      <th>ltable</th>\n",
       "      <th>rtable</th>\n",
       "    </tr>\n",
       "  </thead>\n",
       "  <tbody>\n",
       "    <tr>\n",
       "      <th>0</th>\n",
       "      <td>One</td>\n",
       "      <td>1</td>\n",
       "      <td>4</td>\n",
       "    </tr>\n",
       "    <tr>\n",
       "      <th>1</th>\n",
       "      <td>Two</td>\n",
       "      <td>2</td>\n",
       "      <td>5</td>\n",
       "    </tr>\n",
       "  </tbody>\n",
       "</table>\n",
       "</div>"
      ],
      "text/plain": [
       "   key  ltable  rtable\n",
       "0  One       1       4\n",
       "1  Two       2       5"
      ]
     },
     "execution_count": 47,
     "metadata": {},
     "output_type": "execute_result"
    }
   ],
   "source": [
    "df_merg = pd.merge(a,b)\n",
    "df_merg"
   ]
  }
 ],
 "metadata": {
  "kernelspec": {
   "display_name": "Python 3 (ipykernel)",
   "language": "python",
   "name": "python3"
  },
  "language_info": {
   "codemirror_mode": {
    "name": "ipython",
    "version": 3
   },
   "file_extension": ".py",
   "mimetype": "text/x-python",
   "name": "python",
   "nbconvert_exporter": "python",
   "pygments_lexer": "ipython3",
   "version": "3.9.13"
  }
 },
 "nbformat": 4,
 "nbformat_minor": 5
}
