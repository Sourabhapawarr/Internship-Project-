{
 "cells": [
  {
   "cell_type": "code",
   "execution_count": 4,
   "id": "f3eeb9c4",
   "metadata": {},
   "outputs": [],
   "source": [
    "import numpy as np"
   ]
  },
  {
   "cell_type": "code",
   "execution_count": null,
   "id": "d6447358",
   "metadata": {},
   "outputs": [],
   "source": [
    "#1. Write a NumPy program to convert a list of numeric value into a one-dimensional NumPy array. "
   ]
  },
  {
   "cell_type": "code",
   "execution_count": 5,
   "id": "f555e68c",
   "metadata": {},
   "outputs": [
    {
     "name": "stdout",
     "output_type": "stream",
     "text": [
      "orignal list: [12.23, 13.32, 100, 36.32]\n",
      "one dimensional numpy array: [ 12.23  13.32 100.    36.32]\n"
     ]
    }
   ],
   "source": [
    "a = [12.23, 13.32, 100, 36.32]\n",
    "b = np.array(a)\n",
    "print(\"orignal list:\",a)\n",
    "print(\"one dimensional numpy array:\",b)"
   ]
  },
  {
   "cell_type": "code",
   "execution_count": null,
   "id": "43ce2e56",
   "metadata": {},
   "outputs": [],
   "source": [
    "#2.Write a NumPy program to create a 3x3 matrix with values ranging from 2 to 10.   "
   ]
  },
  {
   "cell_type": "code",
   "execution_count": 10,
   "id": "9ce65cc0",
   "metadata": {},
   "outputs": [
    {
     "data": {
      "text/plain": [
       "array([[ 2,  3,  4],\n",
       "       [ 5,  6,  7],\n",
       "       [ 8,  9, 10]])"
      ]
     },
     "execution_count": 10,
     "metadata": {},
     "output_type": "execute_result"
    }
   ],
   "source": [
    "a = np.arange(2,11)\n",
    "b = a.reshape(3,3)\n",
    "b"
   ]
  },
  {
   "cell_type": "code",
   "execution_count": null,
   "id": "c43b05ec",
   "metadata": {},
   "outputs": [],
   "source": [
    "#3.Write a NumPy program to create a null vector of size 10 and update sixth value to 11. "
   ]
  },
  {
   "cell_type": "code",
   "execution_count": 16,
   "id": "bc3ef063",
   "metadata": {},
   "outputs": [
    {
     "name": "stdout",
     "output_type": "stream",
     "text": [
      "[0. 0. 0. 0. 0. 0. 0. 0. 0. 0.]\n",
      "updated value: [ 0.  0.  0.  0.  0.  0. 11.  0.  0.  0.]\n"
     ]
    }
   ],
   "source": [
    "a = np.zeros(10)\n",
    "print(a)\n",
    "a[6] = 11\n",
    "print('updated value:',a)"
   ]
  },
  {
   "cell_type": "code",
   "execution_count": null,
   "id": "4f88a0c7",
   "metadata": {},
   "outputs": [],
   "source": [
    "#4. Write a NumPy program to create an array with values ranging from 12 to 38. "
   ]
  },
  {
   "cell_type": "code",
   "execution_count": 7,
   "id": "155a43f7",
   "metadata": {},
   "outputs": [
    {
     "data": {
      "text/plain": [
       "array([12, 13, 14, 15, 16, 17, 18, 19, 20, 21, 22, 23, 24, 25, 26, 27, 28,\n",
       "       29, 30, 31, 32, 33, 34, 35, 36, 37])"
      ]
     },
     "execution_count": 7,
     "metadata": {},
     "output_type": "execute_result"
    }
   ],
   "source": [
    "a = np.arange(12,38)\n",
    "a"
   ]
  },
  {
   "cell_type": "code",
   "execution_count": null,
   "id": "0f1a1a1e",
   "metadata": {},
   "outputs": [],
   "source": [
    "#5. Write a NumPy program to reverse an array (first element becomes last). "
   ]
  },
  {
   "cell_type": "code",
   "execution_count": 23,
   "id": "7ee09884",
   "metadata": {},
   "outputs": [
    {
     "name": "stdout",
     "output_type": "stream",
     "text": [
      "orignal array: [12 13 14 15 16 17 18 19 20 21 22 23 24 25 26 27 28 29 30 31 32 33 34 35\n",
      " 36 37]\n",
      "reverse array: [37 36 35 34 33 32 31 30 29 28 27 26 25 24 23 22 21 20 19 18 17 16 15 14\n",
      " 13 12]\n"
     ]
    }
   ],
   "source": [
    "a = np.arange(12,38)\n",
    "print('orignal array:',a)\n",
    "a = a[::-1]\n",
    "print('reverse array:',a)"
   ]
  },
  {
   "cell_type": "code",
   "execution_count": null,
   "id": "ce556938",
   "metadata": {},
   "outputs": [],
   "source": [
    "#6. Write a NumPy program to convert an array to a float type.  "
   ]
  },
  {
   "cell_type": "code",
   "execution_count": 14,
   "id": "1afc79af",
   "metadata": {},
   "outputs": [
    {
     "name": "stdout",
     "output_type": "stream",
     "text": [
      "orignal array: [1 2 3 4]\n",
      "converted array: [1. 2. 3. 4.]\n"
     ]
    }
   ],
   "source": [
    "a = np.array([1,2,3,4])\n",
    "print('orignal array:',a)\n",
    "b = a.astype(float)\n",
    "print('converted array:',b)"
   ]
  },
  {
   "cell_type": "code",
   "execution_count": null,
   "id": "bc795529",
   "metadata": {},
   "outputs": [],
   "source": [
    "#7. Write a NumPy program to create a 2d array with 1 on the border and 0 inside. "
   ]
  },
  {
   "cell_type": "code",
   "execution_count": 46,
   "id": "b94efce4",
   "metadata": {},
   "outputs": [
    {
     "name": "stdout",
     "output_type": "stream",
     "text": [
      "orignal array: [[1. 1. 1. 1. 1.]\n",
      " [1. 1. 1. 1. 1.]\n",
      " [1. 1. 1. 1. 1.]\n",
      " [1. 1. 1. 1. 1.]\n",
      " [1. 1. 1. 1. 1.]]\n",
      "1 on the border and 0 inside in the array [[1. 1. 1. 1. 1.]\n",
      " [1. 0. 0. 0. 1.]\n",
      " [1. 0. 0. 0. 1.]\n",
      " [1. 0. 0. 0. 1.]\n",
      " [1. 1. 1. 1. 1.]]\n"
     ]
    }
   ],
   "source": [
    "a = np.ones((5,5))\n",
    "print('orignal array:',a)\n",
    "a[1:-1,1:-1] = 0\n",
    "print('1 on the border and 0 inside in the array',a)"
   ]
  },
  {
   "cell_type": "code",
   "execution_count": null,
   "id": "0964e138",
   "metadata": {},
   "outputs": [],
   "source": [
    "#8. Write a NumPy program to add a border (filled with 0's) around an existing array.  "
   ]
  },
  {
   "cell_type": "code",
   "execution_count": 49,
   "id": "98cd1da4",
   "metadata": {},
   "outputs": [
    {
     "name": "stdout",
     "output_type": "stream",
     "text": [
      "orignal array: [[1. 1. 1. 1. 1.]\n",
      " [1. 1. 1. 1. 1.]\n",
      " [1. 1. 1. 1. 1.]\n",
      " [1. 1. 1. 1. 1.]\n",
      " [1. 1. 1. 1. 1.]]\n",
      "1 on the border and 0 inside in the array: [[0. 0. 0. 0. 0. 0. 0.]\n",
      " [0. 1. 1. 1. 1. 1. 0.]\n",
      " [0. 1. 1. 1. 1. 1. 0.]\n",
      " [0. 1. 1. 1. 1. 1. 0.]\n",
      " [0. 1. 1. 1. 1. 1. 0.]\n",
      " [0. 1. 1. 1. 1. 1. 0.]\n",
      " [0. 0. 0. 0. 0. 0. 0.]]\n"
     ]
    }
   ],
   "source": [
    "a = np.ones((5,5))\n",
    "print('orignal array:',a)\n",
    "a = np.pad(a, pad_width=1, mode='constant', constant_values=0)\n",
    "print('1 on the border and 0 inside in the array:',a)"
   ]
  },
  {
   "cell_type": "code",
   "execution_count": null,
   "id": "770099ca",
   "metadata": {},
   "outputs": [],
   "source": [
    "#9. Write a NumPy program to create a 8x8 matrix and fill it with a checkerboard pattern.  "
   ]
  },
  {
   "cell_type": "code",
   "execution_count": 53,
   "id": "136e545f",
   "metadata": {},
   "outputs": [
    {
     "name": "stdout",
     "output_type": "stream",
     "text": [
      "Checkerboard pattern: [[0 1 0 1 0 1 0 1]\n",
      " [1 0 1 0 1 0 1 0]\n",
      " [0 1 0 1 0 1 0 1]\n",
      " [1 0 1 0 1 0 1 0]\n",
      " [0 1 0 1 0 1 0 1]\n",
      " [1 0 1 0 1 0 1 0]\n",
      " [0 1 0 1 0 1 0 1]\n",
      " [1 0 1 0 1 0 1 0]]\n"
     ]
    }
   ],
   "source": [
    "a = np.zeros((8,8),dtype=int)\n",
    "a[1::2,::2] = 1\n",
    "a[::2,1::2] = 1\n",
    "print('Checkerboard pattern:',a)"
   ]
  },
  {
   "cell_type": "code",
   "execution_count": null,
   "id": "6e7ddaf9",
   "metadata": {},
   "outputs": [],
   "source": [
    "#10. Write a NumPy program to convert a list and tuple into arrays. "
   ]
  },
  {
   "cell_type": "code",
   "execution_count": 4,
   "id": "47f44876",
   "metadata": {},
   "outputs": [
    {
     "name": "stdout",
     "output_type": "stream",
     "text": [
      "list to array: [1 2 3 4 5 6]\n",
      "tuple to array: [[1 2 3]\n",
      " [4 5 6]]\n"
     ]
    }
   ],
   "source": [
    "l1 = [1,2,3,4,5,6]\n",
    "a = np.array(l1)\n",
    "print('list to array:',a)\n",
    "\n",
    "tup = ([1,2,3],[4,5,6])\n",
    "b = np.array(tup)\n",
    "print('tuple to array:',b)\n"
   ]
  },
  {
   "cell_type": "code",
   "execution_count": null,
   "id": "f3f7fa21",
   "metadata": {},
   "outputs": [],
   "source": [
    "#11. Write a NumPy program to append values to the end of an array.  "
   ]
  },
  {
   "cell_type": "code",
   "execution_count": 42,
   "id": "11fda3e9",
   "metadata": {},
   "outputs": [
    {
     "name": "stdout",
     "output_type": "stream",
     "text": [
      "after appending array: [10 20 30 40 50 60 70 80 90]\n"
     ]
    }
   ],
   "source": [
    "a = [10,20,30]\n",
    "a = np.append(a,[40,50,60,70,80,90])\n",
    "print('after appending array:',a)"
   ]
  },
  {
   "cell_type": "code",
   "execution_count": null,
   "id": "1cea9b1e",
   "metadata": {},
   "outputs": [],
   "source": [
    "#12. Write a NumPy program to create an empty and a full array. "
   ]
  },
  {
   "cell_type": "code",
   "execution_count": 30,
   "id": "3c34c51d",
   "metadata": {},
   "outputs": [
    {
     "name": "stdout",
     "output_type": "stream",
     "text": [
      "[[6.23042070e-307 4.67296746e-307 1.69121096e-306]\n",
      " [6.23047842e-307 2.22526399e-307 6.23053614e-307]\n",
      " [7.56592338e-307 9.34588061e-307 3.62651150e-317]]\n",
      "[[6 6 6]\n",
      " [6 6 6]\n",
      " [6 6 6]]\n"
     ]
    }
   ],
   "source": [
    "a = np.empty([3,3])\n",
    "print(a)\n",
    "b = np.full([3,3],6)\n",
    "print(b)"
   ]
  },
  {
   "cell_type": "code",
   "execution_count": null,
   "id": "5b79b14f",
   "metadata": {},
   "outputs": [],
   "source": [
    "#13.Write a NumPy program to convert the values of Centigrade degrees into Fahrenheit degrees.\n",
    "#Centigrade values are stored into a NumPy array. "
   ]
  },
  {
   "cell_type": "code",
   "execution_count": 34,
   "id": "5ef2cb05",
   "metadata": {},
   "outputs": [
    {
     "name": "stdout",
     "output_type": "stream",
     "text": [
      "Values in Fahrenheit degrees: [ 0.   12.   45.21 34.   99.91]\n",
      "Values in Centigrade degrees: [-17.78 -11.11   7.34   1.11  37.73]\n"
     ]
    }
   ],
   "source": [
    "a = np.array([0, 12, 45.21 ,34, 99.91])\n",
    "print('Values in Fahrenheit degrees:',a)\n",
    "b = np.round((5*a/9 - 5*32/9),2)\n",
    "print('Values in Centigrade degrees:',b)"
   ]
  },
  {
   "cell_type": "code",
   "execution_count": null,
   "id": "e480d771",
   "metadata": {},
   "outputs": [],
   "source": [
    "#14. Write a NumPy program to find the real and imaginary parts of an array of complex numbers.  "
   ]
  },
  {
   "cell_type": "code",
   "execution_count": 38,
   "id": "abdc73bb",
   "metadata": {},
   "outputs": [
    {
     "name": "stdout",
     "output_type": "stream",
     "text": [
      "real part: [1.70710678]\n",
      "imaginary part: [0.70710678]\n"
     ]
    }
   ],
   "source": [
    "a = np.array([1.00000000+0.j+0.70710678+0.70710678j])\n",
    "print('real part:',a.real)\n",
    "print('imaginary part:',a.imag)"
   ]
  },
  {
   "cell_type": "code",
   "execution_count": null,
   "id": "696a2c46",
   "metadata": {},
   "outputs": [],
   "source": []
  },
  {
   "cell_type": "code",
   "execution_count": null,
   "id": "28c28e1e",
   "metadata": {},
   "outputs": [],
   "source": []
  }
 ],
 "metadata": {
  "kernelspec": {
   "display_name": "Python 3 (ipykernel)",
   "language": "python",
   "name": "python3"
  },
  "language_info": {
   "codemirror_mode": {
    "name": "ipython",
    "version": 3
   },
   "file_extension": ".py",
   "mimetype": "text/x-python",
   "name": "python",
   "nbconvert_exporter": "python",
   "pygments_lexer": "ipython3",
   "version": "3.9.13"
  }
 },
 "nbformat": 4,
 "nbformat_minor": 5
}
